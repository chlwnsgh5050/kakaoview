{
 "cells": [
  {
   "cell_type": "code",
   "execution_count": 91,
   "metadata": {},
   "outputs": [],
   "source": [
    "import tkinter.ttk as ttk\n",
    "import tkinter.messagebox as msgbox\n",
    "from tkinter import *  # __all__\n",
    "from tkinter import filedialog\n",
    "import threading\n",
    "import time\n",
    "from selenium import webdriver\n",
    "from selenium.webdriver.common.keys import Keys\n",
    "from selenium.webdriver.support.ui import Select\n",
    "from selenium.webdriver.common.alert import Alert\n",
    "from selenium.webdriver.common.action_chains import ActionChains\n",
    "from webdriver_manager.chrome import ChromeDriverManager\n",
    "from time import sleep\n",
    "import pandas as pd\n",
    "import sys\n",
    "import os\n",
    "from datetime import datetime"
   ]
  },
  {
   "cell_type": "code",
   "execution_count": 92,
   "metadata": {},
   "outputs": [
    {
     "name": "stderr",
     "output_type": "stream",
     "text": [
      "\n",
      "\n",
      "====== WebDriver manager ======\n",
      "Current google-chrome version is 98.0.4758\n",
      "Get LATEST chromedriver version for 98.0.4758 google-chrome\n",
      "Trying to download new driver from https://chromedriver.storage.googleapis.com/98.0.4758.102/chromedriver_win32.zip\n",
      "Driver has been saved in cache [C:\\Users\\chlwn\\.wdm\\drivers\\chromedriver\\win32\\98.0.4758.102]\n"
     ]
    }
   ],
   "source": [
    "options = webdriver.ChromeOptions()\n",
    "# options.add_argument(\"headless\")\n",
    "options.add_experimental_option(\"excludeSwitches\", [\"enable-logging\"])\n",
    "options.add_argument(\n",
    "\"user-agent=Mozilla/5.0 (Macintosh; Intel Mac OS X 10_12_6) AppleWebKit/537.36 (KHTML, like Gecko) Chrome/61.0.3163.100 Safari/537.36\")\n",
    "# 사이트 켜기\n",
    "browser = webdriver.Chrome(\n",
    "ChromeDriverManager().install(), options=options)"
   ]
  },
  {
   "cell_type": "code",
   "execution_count": 93,
   "metadata": {},
   "outputs": [
    {
     "data": {
      "text/plain": [
       "['https://news.naver.com/main/read.naver?mode=LSD&mid=shm&sid1=105&oid=215&aid=0001015525',\n",
       " 'https://news.naver.com/main/read.naver?mode=LSD&mid=shm&sid1=105&oid=015&aid=0004665404',\n",
       " 'https://news.naver.com/main/read.naver?mode=LSD&mid=shm&sid1=105&oid=015&aid=0004665206',\n",
       " 'https://news.naver.com/main/read.naver?mode=LSD&mid=shm&sid1=105&oid=092&aid=0002248036',\n",
       " 'https://news.naver.com/main/read.naver?mode=LSD&mid=shm&sid1=105&oid=016&aid=0001953097',\n",
       " 'https://news.naver.com/main/read.naver?mode=LSD&mid=shm&sid1=105&oid=081&aid=0003252765',\n",
       " 'https://news.naver.com/main/read.naver?mode=LSD&mid=shm&sid1=105&oid=293&aid=0000038070',\n",
       " 'https://news.naver.com/main/read.naver?mode=LSD&mid=shm&sid1=105&oid=009&aid=0004923607',\n",
       " 'https://news.naver.com/main/read.naver?mode=LSD&mid=shm&sid1=105&oid=293&aid=0000038076',\n",
       " 'https://news.naver.com/main/read.naver?mode=LSD&mid=shm&sid1=105&oid=031&aid=0000654493']"
      ]
     },
     "execution_count": 93,
     "metadata": {},
     "output_type": "execute_result"
    }
   ],
   "source": [
    "#IT NEWS Gathering\n",
    "browser.get(\n",
    "\"https://news.naver.com/main/main.naver?mode=LSD&mid=shm&sid1=105\")\n",
    "it_news = []\n",
    "for i in range(1,6):\n",
    "    it_article = browser.find_element_by_css_selector(\"#main_content > div > div._persist > div:nth-child(1) > div:nth-child({}) > div.cluster_body > ul > li:nth-child(1) > div.cluster_text > a\".format(i))\n",
    "    it_article = it_article.get_attribute(\"href\")\n",
    "    it_news.append(it_article)\n",
    "try:\n",
    "    browser.find_element_by_xpath('//*[@id=\"main_content\"]/div/div[2]/div[2]/div/a').click()\n",
    "except:\n",
    "    pass\n",
    "try:\n",
    "    for i in range(6,9):\n",
    "        it_article = browser.find_element_by_css_selector(\"#main_content > div > div._persist > div:nth-child(1) > div:nth-child({}) > div.cluster_body > ul > li:nth-child(1) > div.cluster_text > a\".format(i))\n",
    "        it_article = it_article.get_attribute(\"href\")\n",
    "        it_news.append(it_article)\n",
    "except:\n",
    "    pass\n",
    "try:\n",
    "    for i in range(3,5):\n",
    "        it_article = browser.find_element_by_css_selector(\"#main_content > div > div:nth-child({}) > div > div.cluster_body > ul > li:nth-child(1) > div > a\".format(i))\n",
    "        it_article = it_article.get_attribute(\"href\")\n",
    "        it_news.append(it_article)\n",
    "except:\n",
    "    pass\n",
    "it_news"
   ]
  },
  {
   "cell_type": "code",
   "execution_count": 94,
   "metadata": {},
   "outputs": [
    {
     "data": {
      "text/plain": [
       "['https://news.naver.com/main/read.naver?mode=LSD&mid=shm&sid1=101&oid=003&aid=0011012280',\n",
       " 'https://news.naver.com/main/read.naver?mode=LSD&mid=shm&sid1=101&oid=016&aid=0001952955',\n",
       " 'https://news.naver.com/main/read.naver?mode=LSD&mid=shm&sid1=101&oid=215&aid=0001015502',\n",
       " 'https://news.naver.com/main/read.naver?mode=LSD&mid=shm&sid1=101&oid=009&aid=0004923595',\n",
       " 'https://news.naver.com/main/read.naver?mode=LSD&mid=shm&sid1=101&oid=005&aid=0001506397',\n",
       " 'https://news.naver.com/main/read.naver?mode=LSD&mid=shm&sid1=101&oid=081&aid=0003252747',\n",
       " 'https://news.naver.com/main/read.naver?mode=LSD&mid=shm&sid1=101&oid=011&aid=0004020559',\n",
       " 'https://news.naver.com/main/read.naver?mode=LSD&mid=shm&sid1=101&oid=052&aid=0001703374',\n",
       " 'https://news.naver.com/main/read.naver?mode=LSD&mid=shm&sid1=101&oid=056&aid=0011215269',\n",
       " 'https://news.naver.com/main/read.naver?mode=LSD&mid=shm&sid1=101&oid=005&aid=0001506355']"
      ]
     },
     "execution_count": 94,
     "metadata": {},
     "output_type": "execute_result"
    }
   ],
   "source": [
    "#ECONOMIC NEWS Gathering\n",
    "browser.get(\n",
    "\"https://news.naver.com/main/main.naver?mode=LSD&mid=shm&sid1=101\")\n",
    "eco_news = []\n",
    "for i in range(1,7):\n",
    "    eco_article = browser.find_element_by_css_selector(\"#main_content > div > div._persist > div:nth-child(1) > div:nth-child({}) > div.cluster_body > ul > li:nth-child(1) > div.cluster_text > a\".format(i))\n",
    "    eco_article = eco_article.get_attribute(\"href\")\n",
    "    eco_news.append(eco_article)\n",
    "browser.find_element_by_xpath('//*[@id=\"main_content\"]/div/div[2]/div[2]/div/a').click()\n",
    "for i in range(7,11):\n",
    "    eco_article = browser.find_element_by_css_selector(\"#main_content > div > div._persist > div:nth-child(1) > div:nth-child({}) > div.cluster_body > ul > li:nth-child(1) > div.cluster_text > a\".format(i))\n",
    "    eco_article = eco_article.get_attribute(\"href\")\n",
    "    eco_news.append(eco_article)\n",
    "eco_news\n"
   ]
  },
  {
   "cell_type": "code",
   "execution_count": 95,
   "metadata": {},
   "outputs": [
    {
     "name": "stdout",
     "output_type": "stream",
     "text": [
      "['http://starin.edaily.co.kr/news/newspath.asp?newsid=01400566632231832', 'https://www.nocutnews.co.kr/news/5709720', 'https://www.xportsnews.com/article/1538914', 'https://www.ajunews.com/view/20220218185049977', 'http://www.segye.com/content/html/2022/02/18/20220218509946.html?OutUrl=naver', 'https://news.sbs.co.kr/news/endPage.do?news_id=N1006645524&plink=ORI&cooper=NAVER', 'https://imnews.imbc.com/replay/2022/nwdesk/article/6342910_35744.html', 'http://yna.kr/AKR20220218119600007?did=1195m', 'https://www.nocutnews.co.kr/news/5710169', 'http://starin.edaily.co.kr/news/newspath.asp?newsid=01476006632231504']\n",
      "['http://starin.edaily.co.kr/news/newspath.asp?newsid=01400566632231832', 'https://www.nocutnews.co.kr/news/5709720', 'https://www.xportsnews.com/article/1538914', 'https://www.ajunews.com/view/20220218185049977', 'http://www.segye.com/content/html/2022/02/18/20220218509946.html?OutUrl=naver', 'https://news.sbs.co.kr/news/endPage.do?news_id=N1006645524&plink=ORI&cooper=NAVER', 'https://imnews.imbc.com/replay/2022/nwdesk/article/6342910_35744.html', 'http://yna.kr/AKR20220218119600007?did=1195m', 'https://www.nocutnews.co.kr/news/5710169', 'http://starin.edaily.co.kr/news/newspath.asp?newsid=01476006632231504']\n"
     ]
    }
   ],
   "source": [
    "if datetime.today().strftime(\"%Y%m%d\") <= '20220221':\n",
    "    browser.get(\n",
    "    \"https://search.naver.com/search.naver?where=news&query=%EB%B2%A0%EC%9D%B4%EC%A7%95%EC%98%AC%EB%A6%BC%ED%94%BD%EB%89%B4%EC%8A%A4&sm=tab_tmr&nso=so:r,p:all,a:all&sort=0\")\n",
    "    sports_news = []\n",
    "    olymphic_article = browser.find_elements_by_css_selector('a.news_tit')\n",
    "    for e in olymphic_article:\n",
    "        olymphic_article = e.get_attribute('href')\n",
    "        sports_news.append(olymphic_article)\n",
    "    print(sports_news)\n",
    "else:\n",
    "    browser.get(\n",
    "    \"https://sports.news.naver.com/ranking/index\")\n",
    "    sports_news = []\n",
    "    sports_article = browser.find_elements_by_css_selector('a.title')\n",
    "    for e in sports_article[0:10]:\n",
    "        sports_article = e.get_attribute('href')\n",
    "        sports_news.append(sports_article)\n",
    "print(sports_news)\n",
    " \n",
    "\n",
    "\n",
    "\n",
    "\n"
   ]
  },
  {
   "cell_type": "code",
   "execution_count": 96,
   "metadata": {},
   "outputs": [
    {
     "name": "stdout",
     "output_type": "stream",
     "text": [
      "['https://entertain.naver.com/ranking/read?oid=109&aid=0004560270', 'https://entertain.naver.com/ranking/read?oid=076&aid=0003833881', 'https://entertain.naver.com/ranking/read?oid=117&aid=0003578192', 'https://entertain.naver.com/ranking/read?oid=112&aid=0003532715', 'https://entertain.naver.com/ranking/read?oid=408&aid=0000146474', 'https://entertain.naver.com/ranking/read?oid=076&aid=0003833943', 'https://entertain.naver.com/ranking/read?oid=112&aid=0003532724', 'https://entertain.naver.com/ranking/read?oid=311&aid=0001411763', 'https://entertain.naver.com/ranking/read?oid=112&aid=0003532723', 'https://entertain.naver.com/ranking/read?oid=311&aid=0001411769']\n"
     ]
    }
   ],
   "source": [
    "#Entertain NEWS Gathering\n",
    "browser.get(\n",
    "\"https://entertain.naver.com/home\")\n",
    "entertain_news = []\n",
    "for i in range(1,11):\n",
    "    entertain_article = browser.find_element_by_xpath('//*[@id=\"ranking_news\"]/div/div[2]/ul/li[{}]/a'.format(i))\n",
    "    entertain_article = entertain_article.get_attribute(\"href\")\n",
    "    entertain_news.append(entertain_article)\n",
    "print(entertain_news)\n",
    "\n"
   ]
  },
  {
   "cell_type": "code",
   "execution_count": 97,
   "metadata": {},
   "outputs": [],
   "source": [
    "#KAKAOVIEW 로그인\n",
    "id = \"chlwnsgh5050@naver.com\"\n",
    "pw = \"jeff1709!\"\n",
    "# 카카오창작센터 이동\n",
    "browser.get(\n",
    "\"https://accounts.kakao.com/login/creators?continue=https%3A%2F%2Fcreators.kakao.com%3A443%2Fkakao%2Fauth\")\n",
    "\n",
    "USER = browser.find_element_by_xpath('//*[@id=\"id_email_2\"]')\n",
    "USER.send_keys(id)\n",
    "PW = browser.find_element_by_xpath('//*[@id=\"id_password_3\"]')\n",
    "PW.send_keys(pw)\n",
    "PW.send_keys(Keys.ENTER)\n",
    "browser.implicitly_wait(5)"
   ]
  },
  {
   "cell_type": "code",
   "execution_count": 98,
   "metadata": {},
   "outputs": [],
   "source": [
    "\n",
    "\n",
    "# IT 채널로 이동\n",
    "it_channel = browser.find_element_by_class_name(\"link_channel\")\n",
    "it_channel.click()\n",
    "browser.implicitly_wait(5)\n",
    "# it 보드 생성\n",
    "it_board = browser.find_element_by_class_name(\"link_newboard\")\n",
    "it_board.click()\n",
    "browser.implicitly_wait(5)\n",
    "# 오늘 반환\n",
    "today = datetime.today().strftime(\"%m\") + \"월 \" +datetime.today().strftime(\"%d\")+\"일 오늘의\"\n",
    "today_it = today + \" IT 뉴스\"\n",
    "# 게시글 작성\n",
    "text_area = browser.find_element_by_id('boardTitle')\n",
    "text_area.send_keys(today_it)\n",
    "\n",
    "# 링크 탭 이동\n",
    "browser.find_element_by_xpath('//*[@id=\"mainContent\"]/div[2]/div/div[2]/div[2]/ul/li[2]/a').click()\n",
    "browser.implicitly_wait(5)\n",
    "it_link = browser.find_element_by_xpath('//*[@id=\"mainContent\"]/div[2]/div/div[2]/div[3]/form/div[1]/div/input')\n",
    "# it_link.send_keys(Keys.ENTER)\n",
    "for i in it_news:\n",
    "    it_link.send_keys(i)\n",
    "    browser.implicitly_wait(10)\n",
    "    it_link.send_keys(Keys.ENTER)\n",
    "    browser.implicitly_wait(10)  \n",
    "    browser.find_element_by_xpath('//*[@id=\"mainContent\"]/div[2]/div/div[2]/div[3]/form/div[2]/ul/li[1]/div[3]/button').click()\n",
    "    browser.implicitly_wait(10)\n",
    "    it_link.send_keys(Keys.CONTROL + \"a\");\n",
    "    it_link.send_keys(Keys.DELETE);\n",
    "    browser.implicitly_wait(5)\n",
    "# 발행 하기\n",
    "browser.find_element_by_xpath('//*[@id=\"mainContent\"]/div[3]/div[2]/button[2]').click()\n",
    "browser.implicitly_wait(5)\n",
    "# 태그 선택\n",
    "browser.find_element_by_xpath('//*[@id=\"layer\"]/div/div/div[2]/div/div[3]/dl/dd/div/div[1]/label').click()\n",
    "browser.find_element_by_xpath('//*[@id=\"layer\"]/div/div/div[2]/div/div[3]/dl/dd/div/div[16]/label').click()\n",
    "# 발행 버튼\n",
    "browser.find_element_by_xpath('//*[@id=\"layer\"]/div/div/div[2]/div/div[5]/button[2]').click()\n",
    "browser.implicitly_wait(10)\n",
    "browser.find_element_by_xpath('//*[@id=\"layer\"]/div/div/div[3]/div/button').click()\n",
    "# 처음 채널 이동\n",
    "browser.get('https://creators.kakao.com/my-channels')\n",
    "browser.implicitly_wait(5)"
   ]
  },
  {
   "cell_type": "code",
   "execution_count": 99,
   "metadata": {},
   "outputs": [],
   "source": [
    "# 경제 뉴스\n",
    "\n",
    "# 경제 채널로 이동\n",
    "it_channel = browser.find_element_by_xpath('//*[@id=\"mainContent\"]/ul/li[2]/a')\n",
    "it_channel.click()\n",
    "browser.implicitly_wait(5)\n",
    "# 경제 보드 생성\n",
    "it_board = browser.find_element_by_class_name(\"link_newboard\")\n",
    "it_board.click()\n",
    "browser.implicitly_wait(5)\n",
    "# 오늘 반환\n",
    "today = datetime.today().strftime(\"%m\") + \"월 \" +datetime.today().strftime(\"%d\")+\"일 오늘의\"\n",
    "today_eco = today + \" 경제 뉴스\"\n",
    "# 게시글 작성\n",
    "text_area = browser.find_element_by_id('boardTitle')\n",
    "text_area.send_keys(today_eco)\n",
    "\n",
    "# 링크 탭 이동\n",
    "browser.find_element_by_xpath('//*[@id=\"mainContent\"]/div[2]/div/div[2]/div[2]/ul/li[2]/a').click()\n",
    "browser.implicitly_wait(5)\n",
    "it_link = browser.find_element_by_xpath('//*[@id=\"mainContent\"]/div[2]/div/div[2]/div[3]/form/div[1]/div/input')\n",
    "# it_link.send_keys(Keys.ENTER)\n",
    "for i in eco_news:\n",
    "    it_link.send_keys(i)\n",
    "    browser.implicitly_wait(10)\n",
    "    it_link.send_keys(Keys.ENTER)\n",
    "    browser.implicitly_wait(10)  \n",
    "    browser.find_element_by_xpath('//*[@id=\"mainContent\"]/div[2]/div/div[2]/div[3]/form/div[2]/ul/li[1]/div[3]/button').click()\n",
    "    browser.implicitly_wait(10)\n",
    "    it_link.send_keys(Keys.CONTROL + \"a\");\n",
    "    it_link.send_keys(Keys.DELETE);\n",
    "    browser.implicitly_wait(5)\n",
    "# 발행 하기\n",
    "browser.find_element_by_xpath('//*[@id=\"mainContent\"]/div[3]/div[2]/button[2]').click()\n",
    "browser.implicitly_wait(5)\n",
    "# 태그 선택\n",
    "browser.find_element_by_xpath('//*[@id=\"layer\"]/div/div/div[2]/div/div[3]/dl/dd/div/div[1]/label').click()\n",
    "browser.find_element_by_xpath('//*[@id=\"layer\"]/div/div/div[2]/div/div[3]/dl/dd/div/div[2]/label').click()\n",
    "\n",
    "# 발행 버튼\n",
    "browser.find_element_by_xpath('//*[@id=\"layer\"]/div/div/div[2]/div/div[5]/button[2]').click()\n",
    "browser.implicitly_wait(10)\n",
    "browser.find_element_by_xpath('//*[@id=\"layer\"]/div/div/div[3]/div/button').click()\n",
    "browser.implicitly_wait(10)\n",
    "# 처음 채널 이동\n",
    "browser.get('https://creators.kakao.com/my-channels')\n",
    "browser.implicitly_wait(5)"
   ]
  },
  {
   "cell_type": "code",
   "execution_count": 100,
   "metadata": {},
   "outputs": [],
   "source": [
    "# 연예 뉴스\n",
    "\n",
    "# 연예 채널로 이동\n",
    "it_channel = browser.find_element_by_xpath('//*[@id=\"mainContent\"]/ul/li[3]/a')\n",
    "it_channel.click()\n",
    "browser.implicitly_wait(5)\n",
    "# 경제 보드 생성\n",
    "it_board = browser.find_element_by_class_name(\"link_newboard\")\n",
    "it_board.click()\n",
    "browser.implicitly_wait(5)\n",
    "# 오늘 반환\n",
    "today = datetime.today().strftime(\"%m\") + \"월 \" +datetime.today().strftime(\"%d\")+\"일 오늘의\"\n",
    "today_eco = today + \" 연예 뉴스\"\n",
    "# 게시글 작성\n",
    "text_area = browser.find_element_by_id('boardTitle')\n",
    "text_area.send_keys(today_eco)\n",
    "\n",
    "# 링크 탭 이동\n",
    "browser.find_element_by_xpath('//*[@id=\"mainContent\"]/div[2]/div/div[2]/div[2]/ul/li[2]/a').click()\n",
    "browser.implicitly_wait(5)\n",
    "it_link = browser.find_element_by_xpath('//*[@id=\"mainContent\"]/div[2]/div/div[2]/div[3]/form/div[1]/div/input')\n",
    "# it_link.send_keys(Keys.ENTER)\n",
    "for i in entertain_news:\n",
    "    it_link.send_keys(i)\n",
    "    browser.implicitly_wait(10)\n",
    "    it_link.send_keys(Keys.ENTER)\n",
    "    browser.implicitly_wait(10)  \n",
    "    browser.find_element_by_xpath('//*[@id=\"mainContent\"]/div[2]/div/div[2]/div[3]/form/div[2]/ul/li[1]/div[3]/button').click()\n",
    "    browser.implicitly_wait(10)\n",
    "    it_link.send_keys(Keys.CONTROL + \"a\");\n",
    "    it_link.send_keys(Keys.DELETE);\n",
    "    browser.implicitly_wait(5)\n",
    "# 발행 하기\n",
    "browser.find_element_by_xpath('//*[@id=\"mainContent\"]/div[3]/div[2]/button[2]').click()\n",
    "browser.implicitly_wait(5)\n",
    "# 태그 선택\n",
    "browser.find_element_by_xpath('//*[@id=\"layer\"]/div/div/div[2]/div/div[3]/dl/dd/div/div[1]/label').click()\n",
    "browser.find_element_by_xpath('//*[@id=\"layer\"]/div/div/div[2]/div/div[3]/dl/dd/div/div[11]/label').click()\n",
    "\n",
    "# 발행 버튼\n",
    "browser.find_element_by_xpath('//*[@id=\"layer\"]/div/div/div[2]/div/div[5]/button[2]').click()\n",
    "browser.implicitly_wait(10)\n",
    "browser.find_element_by_xpath('//*[@id=\"layer\"]/div/div/div[3]/div/button').click()\n",
    "browser.implicitly_wait(10)\n",
    "# 처음 채널 이동\n",
    "browser.get('https://creators.kakao.com/my-channels')\n",
    "browser.implicitly_wait(5)"
   ]
  },
  {
   "cell_type": "code",
   "execution_count": 102,
   "metadata": {},
   "outputs": [
    {
     "ename": "NoSuchElementException",
     "evalue": "Message: no such element: Unable to locate element: {\"method\":\"xpath\",\"selector\":\"//*[@id=\"mainContent\"]/div[2]/div/div[2]/div[3]/form/div[2]/ul/li[1]/div[3]/button\"}\n  (Session info: chrome=98.0.4758.102)\n",
     "output_type": "error",
     "traceback": [
      "\u001b[1;31m---------------------------------------------------------------------------\u001b[0m",
      "\u001b[1;31mNoSuchElementException\u001b[0m                    Traceback (most recent call last)",
      "\u001b[1;32mc:\\Onedrive_inu\\OneDrive - inu.ac.kr\\바탕 화면\\python\\kakaoview.ipynb Cell 12'\u001b[0m in \u001b[0;36m<module>\u001b[1;34m\u001b[0m\n\u001b[0;32m     <a href='vscode-notebook-cell:/c%3A/Onedrive_inu/OneDrive%20-%20inu.ac.kr/%EB%B0%94%ED%83%95%20%ED%99%94%EB%A9%B4/python/kakaoview.ipynb#ch0000011?line=25'>26</a>\u001b[0m it_link\u001b[39m.\u001b[39msend_keys(Keys\u001b[39m.\u001b[39mENTER)\n\u001b[0;32m     <a href='vscode-notebook-cell:/c%3A/Onedrive_inu/OneDrive%20-%20inu.ac.kr/%EB%B0%94%ED%83%95%20%ED%99%94%EB%A9%B4/python/kakaoview.ipynb#ch0000011?line=26'>27</a>\u001b[0m browser\u001b[39m.\u001b[39mimplicitly_wait(\u001b[39m10\u001b[39m)  \n\u001b[1;32m---> <a href='vscode-notebook-cell:/c%3A/Onedrive_inu/OneDrive%20-%20inu.ac.kr/%EB%B0%94%ED%83%95%20%ED%99%94%EB%A9%B4/python/kakaoview.ipynb#ch0000011?line=27'>28</a>\u001b[0m browser\u001b[39m.\u001b[39;49mfind_element_by_xpath(\u001b[39m'\u001b[39;49m\u001b[39m//*[@id=\u001b[39;49m\u001b[39m\"\u001b[39;49m\u001b[39mmainContent\u001b[39;49m\u001b[39m\"\u001b[39;49m\u001b[39m]/div[2]/div/div[2]/div[3]/form/div[2]/ul/li[1]/div[3]/button\u001b[39;49m\u001b[39m'\u001b[39;49m)\u001b[39m.\u001b[39mclick()\n\u001b[0;32m     <a href='vscode-notebook-cell:/c%3A/Onedrive_inu/OneDrive%20-%20inu.ac.kr/%EB%B0%94%ED%83%95%20%ED%99%94%EB%A9%B4/python/kakaoview.ipynb#ch0000011?line=28'>29</a>\u001b[0m browser\u001b[39m.\u001b[39mimplicitly_wait(\u001b[39m10\u001b[39m)\n\u001b[0;32m     <a href='vscode-notebook-cell:/c%3A/Onedrive_inu/OneDrive%20-%20inu.ac.kr/%EB%B0%94%ED%83%95%20%ED%99%94%EB%A9%B4/python/kakaoview.ipynb#ch0000011?line=29'>30</a>\u001b[0m it_link\u001b[39m.\u001b[39msend_keys(Keys\u001b[39m.\u001b[39mCONTROL \u001b[39m+\u001b[39m \u001b[39m\"\u001b[39m\u001b[39ma\u001b[39m\u001b[39m\"\u001b[39m);\n",
      "File \u001b[1;32mC:\\Anaconda\\envs\\kakaoview\\lib\\site-packages\\selenium\\webdriver\\remote\\webdriver.py:394\u001b[0m, in \u001b[0;36mWebDriver.find_element_by_xpath\u001b[1;34m(self, xpath)\u001b[0m\n\u001b[0;32m    <a href='file:///c%3A/Anaconda/envs/kakaoview/lib/site-packages/selenium/webdriver/remote/webdriver.py?line=377'>378</a>\u001b[0m \u001b[39mdef\u001b[39;00m \u001b[39mfind_element_by_xpath\u001b[39m(\u001b[39mself\u001b[39m, xpath):\n\u001b[0;32m    <a href='file:///c%3A/Anaconda/envs/kakaoview/lib/site-packages/selenium/webdriver/remote/webdriver.py?line=378'>379</a>\u001b[0m     \u001b[39m\"\"\"\u001b[39;00m\n\u001b[0;32m    <a href='file:///c%3A/Anaconda/envs/kakaoview/lib/site-packages/selenium/webdriver/remote/webdriver.py?line=379'>380</a>\u001b[0m \u001b[39m    Finds an element by xpath.\u001b[39;00m\n\u001b[0;32m    <a href='file:///c%3A/Anaconda/envs/kakaoview/lib/site-packages/selenium/webdriver/remote/webdriver.py?line=380'>381</a>\u001b[0m \n\u001b[1;32m   (...)\u001b[0m\n\u001b[0;32m    <a href='file:///c%3A/Anaconda/envs/kakaoview/lib/site-packages/selenium/webdriver/remote/webdriver.py?line=391'>392</a>\u001b[0m \u001b[39m        element = driver.find_element_by_xpath('//div/td[1]')\u001b[39;00m\n\u001b[0;32m    <a href='file:///c%3A/Anaconda/envs/kakaoview/lib/site-packages/selenium/webdriver/remote/webdriver.py?line=392'>393</a>\u001b[0m \u001b[39m    \"\"\"\u001b[39;00m\n\u001b[1;32m--> <a href='file:///c%3A/Anaconda/envs/kakaoview/lib/site-packages/selenium/webdriver/remote/webdriver.py?line=393'>394</a>\u001b[0m     \u001b[39mreturn\u001b[39;00m \u001b[39mself\u001b[39;49m\u001b[39m.\u001b[39;49mfind_element(by\u001b[39m=\u001b[39;49mBy\u001b[39m.\u001b[39;49mXPATH, value\u001b[39m=\u001b[39;49mxpath)\n",
      "File \u001b[1;32mC:\\Anaconda\\envs\\kakaoview\\lib\\site-packages\\selenium\\webdriver\\remote\\webdriver.py:976\u001b[0m, in \u001b[0;36mWebDriver.find_element\u001b[1;34m(self, by, value)\u001b[0m\n\u001b[0;32m    <a href='file:///c%3A/Anaconda/envs/kakaoview/lib/site-packages/selenium/webdriver/remote/webdriver.py?line=973'>974</a>\u001b[0m         by \u001b[39m=\u001b[39m By\u001b[39m.\u001b[39mCSS_SELECTOR\n\u001b[0;32m    <a href='file:///c%3A/Anaconda/envs/kakaoview/lib/site-packages/selenium/webdriver/remote/webdriver.py?line=974'>975</a>\u001b[0m         value \u001b[39m=\u001b[39m \u001b[39m'\u001b[39m\u001b[39m[name=\u001b[39m\u001b[39m\"\u001b[39m\u001b[39m%s\u001b[39;00m\u001b[39m\"\u001b[39m\u001b[39m]\u001b[39m\u001b[39m'\u001b[39m \u001b[39m%\u001b[39m value\n\u001b[1;32m--> <a href='file:///c%3A/Anaconda/envs/kakaoview/lib/site-packages/selenium/webdriver/remote/webdriver.py?line=975'>976</a>\u001b[0m \u001b[39mreturn\u001b[39;00m \u001b[39mself\u001b[39;49m\u001b[39m.\u001b[39;49mexecute(Command\u001b[39m.\u001b[39;49mFIND_ELEMENT, {\n\u001b[0;32m    <a href='file:///c%3A/Anaconda/envs/kakaoview/lib/site-packages/selenium/webdriver/remote/webdriver.py?line=976'>977</a>\u001b[0m     \u001b[39m'\u001b[39;49m\u001b[39musing\u001b[39;49m\u001b[39m'\u001b[39;49m: by,\n\u001b[0;32m    <a href='file:///c%3A/Anaconda/envs/kakaoview/lib/site-packages/selenium/webdriver/remote/webdriver.py?line=977'>978</a>\u001b[0m     \u001b[39m'\u001b[39;49m\u001b[39mvalue\u001b[39;49m\u001b[39m'\u001b[39;49m: value})[\u001b[39m'\u001b[39m\u001b[39mvalue\u001b[39m\u001b[39m'\u001b[39m]\n",
      "File \u001b[1;32mC:\\Anaconda\\envs\\kakaoview\\lib\\site-packages\\selenium\\webdriver\\remote\\webdriver.py:321\u001b[0m, in \u001b[0;36mWebDriver.execute\u001b[1;34m(self, driver_command, params)\u001b[0m\n\u001b[0;32m    <a href='file:///c%3A/Anaconda/envs/kakaoview/lib/site-packages/selenium/webdriver/remote/webdriver.py?line=318'>319</a>\u001b[0m response \u001b[39m=\u001b[39m \u001b[39mself\u001b[39m\u001b[39m.\u001b[39mcommand_executor\u001b[39m.\u001b[39mexecute(driver_command, params)\n\u001b[0;32m    <a href='file:///c%3A/Anaconda/envs/kakaoview/lib/site-packages/selenium/webdriver/remote/webdriver.py?line=319'>320</a>\u001b[0m \u001b[39mif\u001b[39;00m response:\n\u001b[1;32m--> <a href='file:///c%3A/Anaconda/envs/kakaoview/lib/site-packages/selenium/webdriver/remote/webdriver.py?line=320'>321</a>\u001b[0m     \u001b[39mself\u001b[39;49m\u001b[39m.\u001b[39;49merror_handler\u001b[39m.\u001b[39;49mcheck_response(response)\n\u001b[0;32m    <a href='file:///c%3A/Anaconda/envs/kakaoview/lib/site-packages/selenium/webdriver/remote/webdriver.py?line=321'>322</a>\u001b[0m     response[\u001b[39m'\u001b[39m\u001b[39mvalue\u001b[39m\u001b[39m'\u001b[39m] \u001b[39m=\u001b[39m \u001b[39mself\u001b[39m\u001b[39m.\u001b[39m_unwrap_value(\n\u001b[0;32m    <a href='file:///c%3A/Anaconda/envs/kakaoview/lib/site-packages/selenium/webdriver/remote/webdriver.py?line=322'>323</a>\u001b[0m         response\u001b[39m.\u001b[39mget(\u001b[39m'\u001b[39m\u001b[39mvalue\u001b[39m\u001b[39m'\u001b[39m, \u001b[39mNone\u001b[39;00m))\n\u001b[0;32m    <a href='file:///c%3A/Anaconda/envs/kakaoview/lib/site-packages/selenium/webdriver/remote/webdriver.py?line=323'>324</a>\u001b[0m     \u001b[39mreturn\u001b[39;00m response\n",
      "File \u001b[1;32mC:\\Anaconda\\envs\\kakaoview\\lib\\site-packages\\selenium\\webdriver\\remote\\errorhandler.py:242\u001b[0m, in \u001b[0;36mErrorHandler.check_response\u001b[1;34m(self, response)\u001b[0m\n\u001b[0;32m    <a href='file:///c%3A/Anaconda/envs/kakaoview/lib/site-packages/selenium/webdriver/remote/errorhandler.py?line=239'>240</a>\u001b[0m         alert_text \u001b[39m=\u001b[39m value[\u001b[39m'\u001b[39m\u001b[39malert\u001b[39m\u001b[39m'\u001b[39m]\u001b[39m.\u001b[39mget(\u001b[39m'\u001b[39m\u001b[39mtext\u001b[39m\u001b[39m'\u001b[39m)\n\u001b[0;32m    <a href='file:///c%3A/Anaconda/envs/kakaoview/lib/site-packages/selenium/webdriver/remote/errorhandler.py?line=240'>241</a>\u001b[0m     \u001b[39mraise\u001b[39;00m exception_class(message, screen, stacktrace, alert_text)\n\u001b[1;32m--> <a href='file:///c%3A/Anaconda/envs/kakaoview/lib/site-packages/selenium/webdriver/remote/errorhandler.py?line=241'>242</a>\u001b[0m \u001b[39mraise\u001b[39;00m exception_class(message, screen, stacktrace)\n",
      "\u001b[1;31mNoSuchElementException\u001b[0m: Message: no such element: Unable to locate element: {\"method\":\"xpath\",\"selector\":\"//*[@id=\"mainContent\"]/div[2]/div/div[2]/div[3]/form/div[2]/ul/li[1]/div[3]/button\"}\n  (Session info: chrome=98.0.4758.102)\n"
     ]
    }
   ],
   "source": [
    "# 스포츠 뉴스\n",
    "\n",
    "# 스포츠 채널로 이동\n",
    "sport_channel = browser.find_element_by_xpath('//*[@id=\"mainContent\"]/ul/li[4]/a')\n",
    "sport_channel.click()\n",
    "browser.implicitly_wait(5)\n",
    "# 스포츠 보드 생성\n",
    "sport_board = browser.find_element_by_class_name(\"link_newboard\")\n",
    "sport_board.click()\n",
    "browser.implicitly_wait(5)\n",
    "# 오늘 반환\n",
    "today = datetime.today().strftime(\"%m\") + \"월 \" +datetime.today().strftime(\"%d\")+\"일 오늘의\"\n",
    "today_sport = today + \" 스포츠 뉴스\"\n",
    "# 게시글 작성\n",
    "text_area = browser.find_element_by_id('boardTitle')\n",
    "text_area.send_keys(today_sport)\n",
    "\n",
    "# 링크 탭 이동\n",
    "browser.find_element_by_xpath('//*[@id=\"mainContent\"]/div[2]/div/div[2]/div[2]/ul/li[2]/a').click()\n",
    "browser.implicitly_wait(5)\n",
    "it_link = browser.find_element_by_xpath('//*[@id=\"mainContent\"]/div[2]/div/div[2]/div[3]/form/div[1]/div/input')\n",
    "# it_link.send_keys(Keys.ENTER)\n",
    "for i in olymphic_news:\n",
    "    it_link.send_keys(i)\n",
    "    browser.implicitly_wait(10)\n",
    "    it_link.send_keys(Keys.ENTER)\n",
    "    browser.implicitly_wait(10)  \n",
    "    browser.find_element_by_xpath('//*[@id=\"mainContent\"]/div[2]/div/div[2]/div[3]/form/div[2]/ul/li[1]/div[3]/button').click()\n",
    "    browser.implicitly_wait(10)\n",
    "    it_link.send_keys(Keys.CONTROL + \"a\");\n",
    "    it_link.send_keys(Keys.DELETE);\n",
    "    browser.implicitly_wait(5)\n",
    "# 발행 하기\n",
    "browser.find_element_by_xpath('//*[@id=\"mainContent\"]/div[3]/div[2]/button[2]').click()\n",
    "browser.implicitly_wait(5)\n",
    "# 태그 선택\n",
    "browser.find_element_by_xpath('//*[@id=\"layer\"]/div/div/div[2]/div/div[3]/dl/dd/div/div[1]/label').click()\n",
    "browser.find_element_by_xpath('//*[@id=\"layer\"]/div/div/div[2]/div/div[3]/dl/dd/div/div[9]/label').click()\n",
    "\n",
    "# 발행 버튼\n",
    "browser.find_element_by_xpath('//*[@id=\"layer\"]/div/div/div[2]/div/div[5]/button[2]').click()\n",
    "browser.implicitly_wait(10)\n",
    "browser.find_element_by_xpath('//*[@id=\"layer\"]/div/div/div[3]/div/button').click()\n",
    "browser.implicitly_wait(10)\n",
    "# 처음 채널 이동\n",
    "browser.get('https://creators.kakao.com/my-channels')\n",
    "browser.implicitly_wait(5)"
   ]
  },
  {
   "cell_type": "code",
   "execution_count": null,
   "metadata": {},
   "outputs": [],
   "source": []
  }
 ],
 "metadata": {
  "interpreter": {
   "hash": "af0f3e56fb43fdd582f11c7cd9c57346b742454a02a4574a09fb6e56f9cf3083"
  },
  "kernelspec": {
   "display_name": "Python 3.10.2 ('kakaoview')",
   "language": "python",
   "name": "python3"
  },
  "language_info": {
   "codemirror_mode": {
    "name": "ipython",
    "version": 3
   },
   "file_extension": ".py",
   "mimetype": "text/x-python",
   "name": "python",
   "nbconvert_exporter": "python",
   "pygments_lexer": "ipython3",
   "version": "3.10.0"
  },
  "orig_nbformat": 4
 },
 "nbformat": 4,
 "nbformat_minor": 2
}
