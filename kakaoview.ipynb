{
 "cells": [
  {
   "cell_type": "code",
   "execution_count": 1,
   "metadata": {},
   "outputs": [],
   "source": [
    "import tkinter.ttk as ttk\n",
    "import tkinter.messagebox as msgbox\n",
    "from tkinter import *  # __all__\n",
    "from tkinter import filedialog\n",
    "import threading\n",
    "import time\n",
    "from selenium import webdriver\n",
    "from selenium.webdriver.common.keys import Keys\n",
    "from selenium.webdriver.support.ui import Select\n",
    "from selenium.webdriver.common.alert import Alert\n",
    "from selenium.webdriver.common.action_chains import ActionChains\n",
    "from webdriver_manager.chrome import ChromeDriverManager\n",
    "from time import sleep\n",
    "import pandas as pd\n",
    "import sys\n",
    "import os\n",
    "from datetime import datetime"
   ]
  },
  {
   "cell_type": "code",
   "execution_count": 2,
   "metadata": {},
   "outputs": [
    {
     "name": "stderr",
     "output_type": "stream",
     "text": [
      "\n",
      "\n",
      "====== WebDriver manager ======\n",
      "Current google-chrome version is 98.0.4758\n",
      "Get LATEST chromedriver version for 98.0.4758 google-chrome\n",
      "Driver [C:\\Users\\CHOEIJH\\.wdm\\drivers\\chromedriver\\win32\\98.0.4758.102\\chromedriver.exe] found in cache\n",
      "C:\\Users\\CHOEIJH\\AppData\\Local\\Temp\\ipykernel_20296\\3866980527.py:7: DeprecationWarning: executable_path has been deprecated, please pass in a Service object\n",
      "  browser = webdriver.Chrome(\n"
     ]
    }
   ],
   "source": [
    "options = webdriver.ChromeOptions()\n",
    "# options.add_argument(\"headless\")\n",
    "options.add_experimental_option(\"excludeSwitches\", [\"enable-logging\"])\n",
    "options.add_argument(\n",
    "\"user-agent=Mozilla/5.0 (Macintosh; Intel Mac OS X 10_12_6) AppleWebKit/537.36 (KHTML, like Gecko) Chrome/61.0.3163.100 Safari/537.36\")\n",
    "# 사이트 켜기\n",
    "browser = webdriver.Chrome(\n",
    "ChromeDriverManager().install(), options=options)\n",
    "##"
   ]
  },
  {
   "cell_type": "code",
   "execution_count": 3,
   "metadata": {},
   "outputs": [
    {
     "name": "stderr",
     "output_type": "stream",
     "text": [
      "C:\\Users\\CHOEIJH\\AppData\\Local\\Temp\\ipykernel_20296\\169105845.py:6: DeprecationWarning: find_element_by_* commands are deprecated. Please use find_element() instead\n",
      "  it_article = browser.find_element_by_css_selector(\"#main_content > div > div._persist > div:nth-child(1) > div:nth-child({}) > div.cluster_body > ul > li:nth-child(1) > div.cluster_text > a\".format(i))\n",
      "C:\\Users\\CHOEIJH\\AppData\\Local\\Temp\\ipykernel_20296\\169105845.py:10: DeprecationWarning: find_element_by_* commands are deprecated. Please use find_element() instead\n",
      "  browser.find_element_by_xpath('//*[@id=\"main_content\"]/div/div[2]/div[2]/div/a').click()\n",
      "C:\\Users\\CHOEIJH\\AppData\\Local\\Temp\\ipykernel_20296\\169105845.py:15: DeprecationWarning: find_element_by_* commands are deprecated. Please use find_element() instead\n",
      "  it_article = browser.find_element_by_css_selector(\"#main_content > div > div._persist > div:nth-child(1) > div:nth-child({}) > div.cluster_body > ul > li:nth-child(1) > div.cluster_text > a\".format(i))\n",
      "C:\\Users\\CHOEIJH\\AppData\\Local\\Temp\\ipykernel_20296\\169105845.py:22: DeprecationWarning: find_element_by_* commands are deprecated. Please use find_element() instead\n",
      "  it_article = browser.find_element_by_css_selector(\"#main_content > div > div:nth-child({}) > div > div.cluster_body > ul > li:nth-child(1) > div > a\".format(i))\n"
     ]
    },
    {
     "data": {
      "text/plain": [
       "['https://news.naver.com/main/read.naver?mode=LSD&mid=shm&sid1=105&oid=277&aid=0005047161',\n",
       " 'https://news.naver.com/main/read.naver?mode=LSD&mid=shm&sid1=105&oid=003&aid=0011015071',\n",
       " 'https://news.naver.com/main/read.naver?mode=LSD&mid=shm&sid1=105&oid=018&aid=0005150409',\n",
       " 'https://news.naver.com/main/read.naver?mode=LSD&mid=shm&sid1=105&oid=082&aid=0001142221',\n",
       " 'https://news.naver.com/main/read.naver?mode=LSD&mid=shm&sid1=105&oid=032&aid=0003129492',\n",
       " 'https://news.naver.com/main/read.naver?mode=LSD&mid=shm&sid1=105&oid=014&aid=0004790933',\n",
       " 'https://news.naver.com/main/read.naver?mode=LSD&mid=shm&sid1=105&oid=293&aid=0000038085',\n",
       " 'https://news.naver.com/main/read.naver?mode=LSD&mid=shm&sid1=105&oid=138&aid=0002119280',\n",
       " 'https://news.naver.com/main/read.naver?mode=LSD&mid=shm&sid1=105&oid=030&aid=0002999573']"
      ]
     },
     "execution_count": 3,
     "metadata": {},
     "output_type": "execute_result"
    }
   ],
   "source": [
    "#IT NEWS Gathering\n",
    "browser.get(\n",
    "\"https://news.naver.com/main/main.naver?mode=LSD&mid=shm&sid1=105\")\n",
    "it_news = []\n",
    "for i in range(1,6):\n",
    "    it_article = browser.find_element_by_css_selector(\"#main_content > div > div._persist > div:nth-child(1) > div:nth-child({}) > div.cluster_body > ul > li:nth-child(1) > div.cluster_text > a\".format(i))\n",
    "    it_article = it_article.get_attribute(\"href\")\n",
    "    it_news.append(it_article)\n",
    "try:\n",
    "    browser.find_element_by_xpath('//*[@id=\"main_content\"]/div/div[2]/div[2]/div/a').click()\n",
    "except:\n",
    "    pass\n",
    "try:\n",
    "    for i in range(6,9):\n",
    "        it_article = browser.find_element_by_css_selector(\"#main_content > div > div._persist > div:nth-child(1) > div:nth-child({}) > div.cluster_body > ul > li:nth-child(1) > div.cluster_text > a\".format(i))\n",
    "        it_article = it_article.get_attribute(\"href\")\n",
    "        it_news.append(it_article)\n",
    "except:\n",
    "    pass\n",
    "try:\n",
    "    for i in range(3,5):\n",
    "        it_article = browser.find_element_by_css_selector(\"#main_content > div > div:nth-child({}) > div > div.cluster_body > ul > li:nth-child(1) > div > a\".format(i))\n",
    "        it_article = it_article.get_attribute(\"href\")\n",
    "        it_news.append(it_article)\n",
    "except:\n",
    "    pass\n",
    "it_news"
   ]
  },
  {
   "cell_type": "code",
   "execution_count": 4,
   "metadata": {},
   "outputs": [
    {
     "name": "stderr",
     "output_type": "stream",
     "text": [
      "C:\\Users\\CHOEIJH\\AppData\\Local\\Temp\\ipykernel_20296\\2643155776.py:6: DeprecationWarning: find_element_by_* commands are deprecated. Please use find_element() instead\n",
      "  eco_article = browser.find_element_by_css_selector(\"#main_content > div > div._persist > div:nth-child(1) > div:nth-child({}) > div.cluster_body > ul > li:nth-child(1) > div.cluster_text > a\".format(i))\n",
      "C:\\Users\\CHOEIJH\\AppData\\Local\\Temp\\ipykernel_20296\\2643155776.py:9: DeprecationWarning: find_element_by_* commands are deprecated. Please use find_element() instead\n",
      "  browser.find_element_by_xpath('//*[@id=\"main_content\"]/div/div[2]/div[2]/div/a').click()\n",
      "C:\\Users\\CHOEIJH\\AppData\\Local\\Temp\\ipykernel_20296\\2643155776.py:11: DeprecationWarning: find_element_by_* commands are deprecated. Please use find_element() instead\n",
      "  eco_article = browser.find_element_by_css_selector(\"#main_content > div > div._persist > div:nth-child(1) > div:nth-child({}) > div.cluster_body > ul > li:nth-child(1) > div.cluster_text > a\".format(i))\n"
     ]
    },
    {
     "data": {
      "text/plain": [
       "['https://news.naver.com/main/read.naver?mode=LSD&mid=shm&sid1=101&oid=052&aid=0001704216',\n",
       " 'https://news.naver.com/main/read.naver?mode=LSD&mid=shm&sid1=101&oid=421&aid=0005918403',\n",
       " 'https://news.naver.com/main/read.naver?mode=LSD&mid=shm&sid1=101&oid=001&aid=0013000137',\n",
       " 'https://news.naver.com/main/read.naver?mode=LSD&mid=shm&sid1=101&oid=025&aid=0003174983',\n",
       " 'https://news.naver.com/main/read.naver?mode=LSD&mid=shm&sid1=101&oid=011&aid=0004020783',\n",
       " 'https://news.naver.com/main/read.naver?mode=LSD&mid=shm&sid1=101&oid=001&aid=0013000212',\n",
       " 'https://news.naver.com/main/read.naver?mode=LSD&mid=shm&sid1=101&oid=005&aid=0001506715',\n",
       " 'https://news.naver.com/main/read.naver?mode=LSD&mid=shm&sid1=101&oid=374&aid=0000276110',\n",
       " 'https://news.naver.com/main/read.naver?mode=LSD&mid=shm&sid1=101&oid=005&aid=0001506696',\n",
       " 'https://news.naver.com/main/read.naver?mode=LSD&mid=shm&sid1=101&oid=016&aid=0001953494']"
      ]
     },
     "execution_count": 4,
     "metadata": {},
     "output_type": "execute_result"
    }
   ],
   "source": [
    "#ECONOMIC NEWS Gathering\n",
    "browser.get(\n",
    "\"https://news.naver.com/main/main.naver?mode=LSD&mid=shm&sid1=101\")\n",
    "eco_news = []\n",
    "for i in range(1,7):\n",
    "    eco_article = browser.find_element_by_css_selector(\"#main_content > div > div._persist > div:nth-child(1) > div:nth-child({}) > div.cluster_body > ul > li:nth-child(1) > div.cluster_text > a\".format(i))\n",
    "    eco_article = eco_article.get_attribute(\"href\")\n",
    "    eco_news.append(eco_article)\n",
    "browser.find_element_by_xpath('//*[@id=\"main_content\"]/div/div[2]/div[2]/div/a').click()\n",
    "for i in range(7,11):\n",
    "    eco_article = browser.find_element_by_css_selector(\"#main_content > div > div._persist > div:nth-child(1) > div:nth-child({}) > div.cluster_body > ul > li:nth-child(1) > div.cluster_text > a\".format(i))\n",
    "    eco_article = eco_article.get_attribute(\"href\")\n",
    "    eco_news.append(eco_article)\n",
    "eco_news\n"
   ]
  },
  {
   "cell_type": "code",
   "execution_count": 5,
   "metadata": {},
   "outputs": [
    {
     "name": "stderr",
     "output_type": "stream",
     "text": [
      "C:\\Users\\CHOEIJH\\AppData\\Local\\Temp\\ipykernel_20296\\1544679030.py:5: DeprecationWarning: find_elements_by_* commands are deprecated. Please use find_elements() instead\n",
      "  olymphic_article = browser.find_elements_by_css_selector('a.news_tit')\n"
     ]
    },
    {
     "name": "stdout",
     "output_type": "stream",
     "text": [
      "['http://www.kukinews.com/newsView/kuk202202200077', 'http://www.newsis.com/view/?id=NISI20220220_0018512558', 'http://www.edaily.co.kr/news/newspath.asp?newsid=01164406632232816', 'http://www.segye.com/content/html/2022/02/20/20220220512067.html?OutUrl=naver', 'https://www.news1.kr/articles/?4590889', 'https://news.kbs.co.kr/news/view.do?ncd=5399419&ref=A', 'https://www.nocutnews.co.kr/news/5710679', 'http://www.newsis.com/view/?id=NISI20220220_0018512541', 'http://starin.edaily.co.kr/news/newspath.asp?newsid=01144726632232488', 'https://www.nocutnews.co.kr/news/5710393']\n",
      "['http://www.kukinews.com/newsView/kuk202202200077', 'http://www.newsis.com/view/?id=NISI20220220_0018512558', 'http://www.edaily.co.kr/news/newspath.asp?newsid=01164406632232816', 'http://www.segye.com/content/html/2022/02/20/20220220512067.html?OutUrl=naver', 'https://www.news1.kr/articles/?4590889', 'https://news.kbs.co.kr/news/view.do?ncd=5399419&ref=A', 'https://www.nocutnews.co.kr/news/5710679', 'http://www.newsis.com/view/?id=NISI20220220_0018512541', 'http://starin.edaily.co.kr/news/newspath.asp?newsid=01144726632232488', 'https://www.nocutnews.co.kr/news/5710393']\n"
     ]
    }
   ],
   "source": [
    "if datetime.today().strftime(\"%Y%m%d\") <= '20220221':\n",
    "    browser.get(\n",
    "    \"https://search.naver.com/search.naver?where=news&query=%EB%B2%A0%EC%9D%B4%EC%A7%95%EC%98%AC%EB%A6%BC%ED%94%BD%EB%89%B4%EC%8A%A4&sm=tab_tmr&nso=so:r,p:all,a:all&sort=0\")\n",
    "    sports_news = []\n",
    "    olymphic_article = browser.find_elements_by_css_selector('a.news_tit')\n",
    "    for e in olymphic_article:\n",
    "        olymphic_article = e.get_attribute('href')\n",
    "        sports_news.append(olymphic_article)\n",
    "    print(sports_news)\n",
    "else:\n",
    "    browser.get(\n",
    "    \"https://sports.news.naver.com/ranking/index\")\n",
    "    sports_news = []\n",
    "    sports_article = browser.find_elements_by_css_selector('a.title')\n",
    "    for e in sports_article[0:10]:\n",
    "        sports_article = e.get_attribute('href')\n",
    "        sports_news.append(sports_article)\n",
    "print(sports_news)"
   ]
  },
  {
   "cell_type": "code",
   "execution_count": 6,
   "metadata": {},
   "outputs": [
    {
     "name": "stdout",
     "output_type": "stream",
     "text": [
      "['https://entertain.naver.com/ranking/read?oid=112&aid=0003533090', 'https://entertain.naver.com/ranking/read?oid=609&aid=0000544209', 'https://entertain.naver.com/ranking/read?oid=109&aid=0004561066', 'https://entertain.naver.com/ranking/read?oid=018&aid=0005150573', 'https://entertain.naver.com/ranking/read?oid=109&aid=0004561279', 'https://entertain.naver.com/ranking/read?oid=144&aid=0000794338', 'https://entertain.naver.com/ranking/read?oid=076&aid=0003834459', 'https://entertain.naver.com/ranking/read?oid=117&aid=0003578511', 'https://entertain.naver.com/ranking/read?oid=117&aid=0003578509', 'https://entertain.naver.com/ranking/read?oid=109&aid=0004561396']\n"
     ]
    },
    {
     "name": "stderr",
     "output_type": "stream",
     "text": [
      "C:\\Users\\CHOEIJH\\AppData\\Local\\Temp\\ipykernel_20296\\2033416880.py:6: DeprecationWarning: find_element_by_* commands are deprecated. Please use find_element() instead\n",
      "  entertain_article = browser.find_element_by_xpath('//*[@id=\"ranking_news\"]/div/div[2]/ul/li[{}]/a'.format(i))\n"
     ]
    }
   ],
   "source": [
    "#Entertain NEWS Gathering\n",
    "browser.get(\n",
    "\"https://entertain.naver.com/home\")\n",
    "entertain_news = []\n",
    "for i in range(1,11):\n",
    "    entertain_article = browser.find_element_by_xpath('//*[@id=\"ranking_news\"]/div/div[2]/ul/li[{}]/a'.format(i))\n",
    "    entertain_article = entertain_article.get_attribute(\"href\")\n",
    "    entertain_news.append(entertain_article)\n",
    "print(entertain_news)"
   ]
  },
  {
   "cell_type": "code",
   "execution_count": 19,
   "metadata": {},
   "outputs": [
    {
     "name": "stderr",
     "output_type": "stream",
     "text": [
      "C:\\Users\\CHOEIJH\\AppData\\Local\\Temp\\ipykernel_20296\\1272008852.py:5: DeprecationWarning: find_element_by_* commands are deprecated. Please use find_element() instead\n",
      "  issue_article = browser.find_element_by_xpath('//*[@id=\"_rankingList45\"]/li[{}]/div/div/div/a[1]'.format(i))\n",
      "C:\\Users\\CHOEIJH\\AppData\\Local\\Temp\\ipykernel_20296\\1272008852.py:9: DeprecationWarning: find_element_by_* commands are deprecated. Please use find_element() instead\n",
      "  browser.find_element_by_xpath('//*[@id=\"wrap\"]/table/tbody/tr/td[2]/div/div[1]/button[2]').click()\n",
      "C:\\Users\\CHOEIJH\\AppData\\Local\\Temp\\ipykernel_20296\\1272008852.py:11: DeprecationWarning: find_element_by_* commands are deprecated. Please use find_element() instead\n",
      "  issue_article = browser.find_element_by_xpath('//*[@id=\"_rankingList45\"]/li[{}]/div/div/div/a[1]'.format(i))\n"
     ]
    },
    {
     "name": "stdout",
     "output_type": "stream",
     "text": [
      "['https://news.naver.com/main/ranking/read.naver?mode=LSD&mid=shm&sid1=001&oid=119&aid=0002577870&rankingType=RANKING', 'https://news.naver.com/main/ranking/read.naver?mode=LSD&mid=shm&sid1=001&oid=006&aid=0000111904&rankingType=RANKING', 'https://news.naver.com/main/ranking/read.naver?mode=LSD&mid=shm&sid1=001&oid=449&aid=0000222653&rankingType=RANKING', 'https://news.naver.com/main/ranking/read.naver?mode=LSD&mid=shm&sid1=001&oid=243&aid=0000023111&rankingType=RANKING', 'https://news.naver.com/main/ranking/read.naver?mode=LSD&mid=shm&sid1=001&oid=293&aid=0000038093&rankingType=RANKING', 'https://news.naver.com/main/ranking/read.naver?mode=LSD&mid=shm&sid1=001&oid=119&aid=0002577870&rankingType=RANKING', 'https://news.naver.com/main/ranking/read.naver?mode=LSD&mid=shm&sid1=001&oid=006&aid=0000111904&rankingType=RANKING', 'https://news.naver.com/main/ranking/read.naver?mode=LSD&mid=shm&sid1=001&oid=449&aid=0000222653&rankingType=RANKING', 'https://news.naver.com/main/ranking/read.naver?mode=LSD&mid=shm&sid1=001&oid=243&aid=0000023111&rankingType=RANKING', 'https://news.naver.com/main/ranking/read.naver?mode=LSD&mid=shm&sid1=001&oid=293&aid=0000038093&rankingType=RANKING']\n"
     ]
    }
   ],
   "source": [
    "# Issue NEWS Gathering\n",
    "browser.get(\"https://news.naver.com/main/officeList.naver\")\n",
    "issue_news = []\n",
    "for i in range(1,6):\n",
    "    issue_article = browser.find_element_by_xpath('//*[@id=\"_rankingList45\"]/li[{}]/div/div/div/a[1]'.format(i))\n",
    "    issue_article = issue_article.get_attribute(\"href\")\n",
    "    issue_news.append(issue_article)\n",
    "# 더보기 버튼 클릭\n",
    "browser.find_element_by_xpath('//*[@id=\"wrap\"]/table/tbody/tr/td[2]/div/div[1]/button[2]').click()\n",
    "for i in range(1,6):\n",
    "    issue_article = browser.find_element_by_xpath('//*[@id=\"_rankingList45\"]/li[{}]/div/div/div/a[1]'.format(i))\n",
    "    issue_article = issue_article.get_attribute(\"href\")\n",
    "    issue_news.append(issue_article)\n",
    "print(issue_news)"
   ]
  },
  {
   "cell_type": "code",
   "execution_count": 7,
   "metadata": {},
   "outputs": [
    {
     "name": "stderr",
     "output_type": "stream",
     "text": [
      "C:\\Users\\CHOEIJH\\AppData\\Local\\Temp\\ipykernel_20296\\2259043805.py:8: DeprecationWarning: find_element_by_* commands are deprecated. Please use find_element() instead\n",
      "  USER = browser.find_element_by_xpath('//*[@id=\"id_email_2\"]')\n",
      "C:\\Users\\CHOEIJH\\AppData\\Local\\Temp\\ipykernel_20296\\2259043805.py:10: DeprecationWarning: find_element_by_* commands are deprecated. Please use find_element() instead\n",
      "  PW = browser.find_element_by_xpath('//*[@id=\"id_password_3\"]')\n"
     ]
    }
   ],
   "source": [
    "#KAKAOVIEW 로그인\n",
    "id = \"chlwnsgh5050@naver.com\"\n",
    "pw = \"jeff1709!\"\n",
    "# 카카오창작센터 이동\n",
    "browser.get(\n",
    "\"https://accounts.kakao.com/login/creators?continue=https%3A%2F%2Fcreators.kakao.com%3A443%2Fkakao%2Fauth\")\n",
    "\n",
    "USER = browser.find_element_by_xpath('//*[@id=\"id_email_2\"]')\n",
    "USER.send_keys(id)\n",
    "PW = browser.find_element_by_xpath('//*[@id=\"id_password_3\"]')\n",
    "PW.send_keys(pw)\n",
    "PW.send_keys(Keys.ENTER)\n",
    "browser.implicitly_wait(5)"
   ]
  },
  {
   "cell_type": "code",
   "execution_count": 8,
   "metadata": {},
   "outputs": [
    {
     "name": "stderr",
     "output_type": "stream",
     "text": [
      "C:\\Users\\CHOEIJH\\AppData\\Local\\Temp\\ipykernel_20296\\277427510.py:2: DeprecationWarning: find_element_by_* commands are deprecated. Please use find_element() instead\n",
      "  it_channel = browser.find_element_by_class_name(\"link_channel\")\n",
      "C:\\Users\\CHOEIJH\\AppData\\Local\\Temp\\ipykernel_20296\\277427510.py:6: DeprecationWarning: find_element_by_* commands are deprecated. Please use find_element() instead\n",
      "  it_board = browser.find_element_by_class_name(\"link_newboard\")\n",
      "C:\\Users\\CHOEIJH\\AppData\\Local\\Temp\\ipykernel_20296\\277427510.py:13: DeprecationWarning: find_element_by_* commands are deprecated. Please use find_element() instead\n",
      "  text_area = browser.find_element_by_id('boardTitle')\n",
      "C:\\Users\\CHOEIJH\\AppData\\Local\\Temp\\ipykernel_20296\\277427510.py:17: DeprecationWarning: find_element_by_* commands are deprecated. Please use find_element() instead\n",
      "  browser.find_element_by_xpath('//*[@id=\"mainContent\"]/div[2]/div/div[2]/div[2]/ul/li[2]/a').click()\n",
      "C:\\Users\\CHOEIJH\\AppData\\Local\\Temp\\ipykernel_20296\\277427510.py:19: DeprecationWarning: find_element_by_* commands are deprecated. Please use find_element() instead\n",
      "  it_link = browser.find_element_by_xpath('//*[@id=\"mainContent\"]/div[2]/div/div[2]/div[3]/form/div[1]/div/input')\n",
      "C:\\Users\\CHOEIJH\\AppData\\Local\\Temp\\ipykernel_20296\\277427510.py:26: DeprecationWarning: find_element_by_* commands are deprecated. Please use find_element() instead\n",
      "  browser.find_element_by_xpath('//*[@id=\"mainContent\"]/div[2]/div/div[2]/div[3]/form/div[2]/ul/li[1]/div[3]/button').click()\n",
      "C:\\Users\\CHOEIJH\\AppData\\Local\\Temp\\ipykernel_20296\\277427510.py:32: DeprecationWarning: find_element_by_* commands are deprecated. Please use find_element() instead\n",
      "  browser.find_element_by_xpath('//*[@id=\"mainContent\"]/div[3]/div[2]/button[2]').click()\n",
      "C:\\Users\\CHOEIJH\\AppData\\Local\\Temp\\ipykernel_20296\\277427510.py:35: DeprecationWarning: find_element_by_* commands are deprecated. Please use find_element() instead\n",
      "  browser.find_element_by_xpath('//*[@id=\"layer\"]/div/div/div[2]/div/div[3]/dl/dd/div/div[1]/label').click()\n",
      "C:\\Users\\CHOEIJH\\AppData\\Local\\Temp\\ipykernel_20296\\277427510.py:36: DeprecationWarning: find_element_by_* commands are deprecated. Please use find_element() instead\n",
      "  browser.find_element_by_xpath('//*[@id=\"layer\"]/div/div/div[2]/div/div[3]/dl/dd/div/div[16]/label').click()\n",
      "C:\\Users\\CHOEIJH\\AppData\\Local\\Temp\\ipykernel_20296\\277427510.py:38: DeprecationWarning: find_element_by_* commands are deprecated. Please use find_element() instead\n",
      "  browser.find_element_by_xpath('//*[@id=\"layer\"]/div/div/div[2]/div/div[5]/button[2]').click()\n",
      "C:\\Users\\CHOEIJH\\AppData\\Local\\Temp\\ipykernel_20296\\277427510.py:40: DeprecationWarning: find_element_by_* commands are deprecated. Please use find_element() instead\n",
      "  browser.find_element_by_xpath('//*[@id=\"layer\"]/div/div/div[3]/div/button').click()\n"
     ]
    }
   ],
   "source": [
    "# IT 채널로 이동\n",
    "it_channel = browser.find_element_by_class_name(\"link_channel\")\n",
    "it_channel.click()\n",
    "browser.implicitly_wait(5)\n",
    "# it 보드 생성\n",
    "it_board = browser.find_element_by_class_name(\"link_newboard\")\n",
    "it_board.click()\n",
    "browser.implicitly_wait(5)\n",
    "# 오늘 반환\n",
    "today = datetime.today().strftime(\"%m\") + \"월 \" +datetime.today().strftime(\"%d\")+\"일 오늘의\"\n",
    "today_it = today + \" IT 뉴스\"\n",
    "# 게시글 작성\n",
    "text_area = browser.find_element_by_id('boardTitle')\n",
    "text_area.send_keys(today_it)\n",
    "\n",
    "# 링크 탭 이동\n",
    "browser.find_element_by_xpath('//*[@id=\"mainContent\"]/div[2]/div/div[2]/div[2]/ul/li[2]/a').click()\n",
    "browser.implicitly_wait(5)\n",
    "it_link = browser.find_element_by_xpath('//*[@id=\"mainContent\"]/div[2]/div/div[2]/div[3]/form/div[1]/div/input')\n",
    "# it_link.send_keys(Keys.ENTER)\n",
    "for i in it_news:\n",
    "    it_link.send_keys(i)\n",
    "    browser.implicitly_wait(10)\n",
    "    it_link.send_keys(Keys.ENTER)\n",
    "    browser.implicitly_wait(10)  \n",
    "    browser.find_element_by_xpath('//*[@id=\"mainContent\"]/div[2]/div/div[2]/div[3]/form/div[2]/ul/li[1]/div[3]/button').click()\n",
    "    browser.implicitly_wait(10)\n",
    "    it_link.send_keys(Keys.CONTROL + \"a\");\n",
    "    it_link.send_keys(Keys.DELETE);\n",
    "    browser.implicitly_wait(5)\n",
    "# 발행 하기\n",
    "browser.find_element_by_xpath('//*[@id=\"mainContent\"]/div[3]/div[2]/button[2]').click()\n",
    "browser.implicitly_wait(5)\n",
    "# 태그 선택\n",
    "browser.find_element_by_xpath('//*[@id=\"layer\"]/div/div/div[2]/div/div[3]/dl/dd/div/div[1]/label').click()\n",
    "browser.find_element_by_xpath('//*[@id=\"layer\"]/div/div/div[2]/div/div[3]/dl/dd/div/div[16]/label').click()\n",
    "# 발행 버튼\n",
    "browser.find_element_by_xpath('//*[@id=\"layer\"]/div/div/div[2]/div/div[5]/button[2]').click()\n",
    "browser.implicitly_wait(10)\n",
    "browser.find_element_by_xpath('//*[@id=\"layer\"]/div/div/div[3]/div/button').click()\n",
    "# 처음 채널 이동\n",
    "browser.get('https://creators.kakao.com/my-channels')\n",
    "browser.implicitly_wait(5)"
   ]
  },
  {
   "cell_type": "code",
   "execution_count": 9,
   "metadata": {},
   "outputs": [
    {
     "name": "stderr",
     "output_type": "stream",
     "text": [
      "C:\\Users\\CHOEIJH\\AppData\\Local\\Temp\\ipykernel_20296\\227532773.py:4: DeprecationWarning: find_element_by_* commands are deprecated. Please use find_element() instead\n",
      "  it_channel = browser.find_element_by_xpath('//*[@id=\"mainContent\"]/ul/li[2]/a')\n",
      "C:\\Users\\CHOEIJH\\AppData\\Local\\Temp\\ipykernel_20296\\227532773.py:8: DeprecationWarning: find_element_by_* commands are deprecated. Please use find_element() instead\n",
      "  it_board = browser.find_element_by_class_name(\"link_newboard\")\n",
      "C:\\Users\\CHOEIJH\\AppData\\Local\\Temp\\ipykernel_20296\\227532773.py:15: DeprecationWarning: find_element_by_* commands are deprecated. Please use find_element() instead\n",
      "  text_area = browser.find_element_by_id('boardTitle')\n",
      "C:\\Users\\CHOEIJH\\AppData\\Local\\Temp\\ipykernel_20296\\227532773.py:19: DeprecationWarning: find_element_by_* commands are deprecated. Please use find_element() instead\n",
      "  browser.find_element_by_xpath('//*[@id=\"mainContent\"]/div[2]/div/div[2]/div[2]/ul/li[2]/a').click()\n",
      "C:\\Users\\CHOEIJH\\AppData\\Local\\Temp\\ipykernel_20296\\227532773.py:21: DeprecationWarning: find_element_by_* commands are deprecated. Please use find_element() instead\n",
      "  it_link = browser.find_element_by_xpath('//*[@id=\"mainContent\"]/div[2]/div/div[2]/div[3]/form/div[1]/div/input')\n",
      "C:\\Users\\CHOEIJH\\AppData\\Local\\Temp\\ipykernel_20296\\227532773.py:28: DeprecationWarning: find_element_by_* commands are deprecated. Please use find_element() instead\n",
      "  browser.find_element_by_xpath('//*[@id=\"mainContent\"]/div[2]/div/div[2]/div[3]/form/div[2]/ul/li[1]/div[3]/button').click()\n",
      "C:\\Users\\CHOEIJH\\AppData\\Local\\Temp\\ipykernel_20296\\227532773.py:34: DeprecationWarning: find_element_by_* commands are deprecated. Please use find_element() instead\n",
      "  browser.find_element_by_xpath('//*[@id=\"mainContent\"]/div[3]/div[2]/button[2]').click()\n",
      "C:\\Users\\CHOEIJH\\AppData\\Local\\Temp\\ipykernel_20296\\227532773.py:37: DeprecationWarning: find_element_by_* commands are deprecated. Please use find_element() instead\n",
      "  browser.find_element_by_xpath('//*[@id=\"layer\"]/div/div/div[2]/div/div[3]/dl/dd/div/div[1]/label').click()\n",
      "C:\\Users\\CHOEIJH\\AppData\\Local\\Temp\\ipykernel_20296\\227532773.py:38: DeprecationWarning: find_element_by_* commands are deprecated. Please use find_element() instead\n",
      "  browser.find_element_by_xpath('//*[@id=\"layer\"]/div/div/div[2]/div/div[3]/dl/dd/div/div[2]/label').click()\n",
      "C:\\Users\\CHOEIJH\\AppData\\Local\\Temp\\ipykernel_20296\\227532773.py:41: DeprecationWarning: find_element_by_* commands are deprecated. Please use find_element() instead\n",
      "  browser.find_element_by_xpath('//*[@id=\"layer\"]/div/div/div[2]/div/div[5]/button[2]').click()\n",
      "C:\\Users\\CHOEIJH\\AppData\\Local\\Temp\\ipykernel_20296\\227532773.py:43: DeprecationWarning: find_element_by_* commands are deprecated. Please use find_element() instead\n",
      "  browser.find_element_by_xpath('//*[@id=\"layer\"]/div/div/div[3]/div/button').click()\n"
     ]
    }
   ],
   "source": [
    "# 경제 뉴스\n",
    "\n",
    "# 경제 채널로 이동\n",
    "it_channel = browser.find_element_by_xpath('//*[@id=\"mainContent\"]/ul/li[2]/a')\n",
    "it_channel.click()\n",
    "browser.implicitly_wait(5)\n",
    "# 경제 보드 생성\n",
    "it_board = browser.find_element_by_class_name(\"link_newboard\")\n",
    "it_board.click()\n",
    "browser.implicitly_wait(5)\n",
    "# 오늘 반환\n",
    "today = datetime.today().strftime(\"%m\") + \"월 \" +datetime.today().strftime(\"%d\")+\"일 오늘의\"\n",
    "today_eco = today + \" 경제 뉴스\"\n",
    "# 게시글 작성\n",
    "text_area = browser.find_element_by_id('boardTitle')\n",
    "text_area.send_keys(today_eco)\n",
    "\n",
    "# 링크 탭 이동\n",
    "browser.find_element_by_xpath('//*[@id=\"mainContent\"]/div[2]/div/div[2]/div[2]/ul/li[2]/a').click()\n",
    "browser.implicitly_wait(5)\n",
    "it_link = browser.find_element_by_xpath('//*[@id=\"mainContent\"]/div[2]/div/div[2]/div[3]/form/div[1]/div/input')\n",
    "# it_link.send_keys(Keys.ENTER)\n",
    "for i in eco_news:\n",
    "    it_link.send_keys(i)\n",
    "    browser.implicitly_wait(10)\n",
    "    it_link.send_keys(Keys.ENTER)\n",
    "    browser.implicitly_wait(10)\n",
    "    browser.find_element_by_xpath('//*[@id=\"mainContent\"]/div[2]/div/div[2]/div[3]/form/div[2]/ul/li[1]/div[3]/button').click()\n",
    "    browser.implicitly_wait(10)\n",
    "    it_link.send_keys(Keys.CONTROL + \"a\");\n",
    "    it_link.send_keys(Keys.DELETE);\n",
    "    browser.implicitly_wait(5)\n",
    "# 발행 하기\n",
    "browser.find_element_by_xpath('//*[@id=\"mainContent\"]/div[3]/div[2]/button[2]').click()\n",
    "browser.implicitly_wait(5)\n",
    "# 태그 선택\n",
    "browser.find_element_by_xpath('//*[@id=\"layer\"]/div/div/div[2]/div/div[3]/dl/dd/div/div[1]/label').click()\n",
    "browser.find_element_by_xpath('//*[@id=\"layer\"]/div/div/div[2]/div/div[3]/dl/dd/div/div[2]/label').click()\n",
    "\n",
    "# 발행 버튼\n",
    "browser.find_element_by_xpath('//*[@id=\"layer\"]/div/div/div[2]/div/div[5]/button[2]').click()\n",
    "browser.implicitly_wait(10)\n",
    "browser.find_element_by_xpath('//*[@id=\"layer\"]/div/div/div[3]/div/button').click()\n",
    "browser.implicitly_wait(10)\n",
    "# 처음 채널 이동\n",
    "browser.get('https://creators.kakao.com/my-channels')\n",
    "browser.implicitly_wait(5)"
   ]
  },
  {
   "cell_type": "code",
   "execution_count": 10,
   "metadata": {},
   "outputs": [
    {
     "name": "stderr",
     "output_type": "stream",
     "text": [
      "C:\\Users\\CHOEIJH\\AppData\\Local\\Temp\\ipykernel_20296\\1191860697.py:4: DeprecationWarning: find_element_by_* commands are deprecated. Please use find_element() instead\n",
      "  it_channel = browser.find_element_by_xpath('//*[@id=\"mainContent\"]/ul/li[3]/a')\n",
      "C:\\Users\\CHOEIJH\\AppData\\Local\\Temp\\ipykernel_20296\\1191860697.py:8: DeprecationWarning: find_element_by_* commands are deprecated. Please use find_element() instead\n",
      "  it_board = browser.find_element_by_class_name(\"link_newboard\")\n",
      "C:\\Users\\CHOEIJH\\AppData\\Local\\Temp\\ipykernel_20296\\1191860697.py:15: DeprecationWarning: find_element_by_* commands are deprecated. Please use find_element() instead\n",
      "  text_area = browser.find_element_by_id('boardTitle')\n",
      "C:\\Users\\CHOEIJH\\AppData\\Local\\Temp\\ipykernel_20296\\1191860697.py:19: DeprecationWarning: find_element_by_* commands are deprecated. Please use find_element() instead\n",
      "  browser.find_element_by_xpath('//*[@id=\"mainContent\"]/div[2]/div/div[2]/div[2]/ul/li[2]/a').click()\n",
      "C:\\Users\\CHOEIJH\\AppData\\Local\\Temp\\ipykernel_20296\\1191860697.py:21: DeprecationWarning: find_element_by_* commands are deprecated. Please use find_element() instead\n",
      "  it_link = browser.find_element_by_xpath('//*[@id=\"mainContent\"]/div[2]/div/div[2]/div[3]/form/div[1]/div/input')\n",
      "C:\\Users\\CHOEIJH\\AppData\\Local\\Temp\\ipykernel_20296\\1191860697.py:28: DeprecationWarning: find_element_by_* commands are deprecated. Please use find_element() instead\n",
      "  browser.find_element_by_xpath('//*[@id=\"mainContent\"]/div[2]/div/div[2]/div[3]/form/div[2]/ul/li[1]/div[3]/button').click()\n",
      "C:\\Users\\CHOEIJH\\AppData\\Local\\Temp\\ipykernel_20296\\1191860697.py:34: DeprecationWarning: find_element_by_* commands are deprecated. Please use find_element() instead\n",
      "  browser.find_element_by_xpath('//*[@id=\"mainContent\"]/div[3]/div[2]/button[2]').click()\n",
      "C:\\Users\\CHOEIJH\\AppData\\Local\\Temp\\ipykernel_20296\\1191860697.py:37: DeprecationWarning: find_element_by_* commands are deprecated. Please use find_element() instead\n",
      "  browser.find_element_by_xpath('//*[@id=\"layer\"]/div/div/div[2]/div/div[3]/dl/dd/div/div[1]/label').click()\n",
      "C:\\Users\\CHOEIJH\\AppData\\Local\\Temp\\ipykernel_20296\\1191860697.py:38: DeprecationWarning: find_element_by_* commands are deprecated. Please use find_element() instead\n",
      "  browser.find_element_by_xpath('//*[@id=\"layer\"]/div/div/div[2]/div/div[3]/dl/dd/div/div[11]/label').click()\n",
      "C:\\Users\\CHOEIJH\\AppData\\Local\\Temp\\ipykernel_20296\\1191860697.py:41: DeprecationWarning: find_element_by_* commands are deprecated. Please use find_element() instead\n",
      "  browser.find_element_by_xpath('//*[@id=\"layer\"]/div/div/div[2]/div/div[5]/button[2]').click()\n",
      "C:\\Users\\CHOEIJH\\AppData\\Local\\Temp\\ipykernel_20296\\1191860697.py:43: DeprecationWarning: find_element_by_* commands are deprecated. Please use find_element() instead\n",
      "  browser.find_element_by_xpath('//*[@id=\"layer\"]/div/div/div[3]/div/button').click()\n"
     ]
    }
   ],
   "source": [
    "# 연예 뉴스\n",
    "\n",
    "# 연예 채널로 이동\n",
    "it_channel = browser.find_element_by_xpath('//*[@id=\"mainContent\"]/ul/li[3]/a')\n",
    "it_channel.click()\n",
    "browser.implicitly_wait(5)\n",
    "# 경제 보드 생성\n",
    "it_board = browser.find_element_by_class_name(\"link_newboard\")\n",
    "it_board.click()\n",
    "browser.implicitly_wait(5)\n",
    "# 오늘 반환\n",
    "today = datetime.today().strftime(\"%m\") + \"월 \" +datetime.today().strftime(\"%d\")+\"일 오늘의\"\n",
    "today_eco = today + \" 연예 뉴스\"\n",
    "# 게시글 작성\n",
    "text_area = browser.find_element_by_id('boardTitle')\n",
    "text_area.send_keys(today_eco)\n",
    "\n",
    "# 링크 탭 이동\n",
    "browser.find_element_by_xpath('//*[@id=\"mainContent\"]/div[2]/div/div[2]/div[2]/ul/li[2]/a').click()\n",
    "browser.implicitly_wait(5)\n",
    "it_link = browser.find_element_by_xpath('//*[@id=\"mainContent\"]/div[2]/div/div[2]/div[3]/form/div[1]/div/input')\n",
    "# it_link.send_keys(Keys.ENTER)\n",
    "for i in entertain_news:\n",
    "    it_link.send_keys(i)\n",
    "    browser.implicitly_wait(10)\n",
    "    it_link.send_keys(Keys.ENTER)\n",
    "    browser.implicitly_wait(10)  \n",
    "    browser.find_element_by_xpath('//*[@id=\"mainContent\"]/div[2]/div/div[2]/div[3]/form/div[2]/ul/li[1]/div[3]/button').click()\n",
    "    browser.implicitly_wait(10)\n",
    "    it_link.send_keys(Keys.CONTROL + \"a\");\n",
    "    it_link.send_keys(Keys.DELETE);\n",
    "    browser.implicitly_wait(5)\n",
    "# 발행 하기\n",
    "browser.find_element_by_xpath('//*[@id=\"mainContent\"]/div[3]/div[2]/button[2]').click()\n",
    "browser.implicitly_wait(5)\n",
    "# 태그 선택\n",
    "browser.find_element_by_xpath('//*[@id=\"layer\"]/div/div/div[2]/div/div[3]/dl/dd/div/div[1]/label').click()\n",
    "browser.find_element_by_xpath('//*[@id=\"layer\"]/div/div/div[2]/div/div[3]/dl/dd/div/div[11]/label').click()\n",
    "\n",
    "# 발행 버튼\n",
    "browser.find_element_by_xpath('//*[@id=\"layer\"]/div/div/div[2]/div/div[5]/button[2]').click()\n",
    "browser.implicitly_wait(10)\n",
    "browser.find_element_by_xpath('//*[@id=\"layer\"]/div/div/div[3]/div/button').click()\n",
    "browser.implicitly_wait(10)\n",
    "# 처음 채널 이동\n",
    "browser.get('https://creators.kakao.com/my-channels')\n",
    "browser.implicitly_wait(5)"
   ]
  },
  {
   "cell_type": "code",
   "execution_count": 12,
   "metadata": {},
   "outputs": [
    {
     "name": "stderr",
     "output_type": "stream",
     "text": [
      "C:\\Users\\CHOEIJH\\AppData\\Local\\Temp\\ipykernel_20296\\3429485407.py:4: DeprecationWarning: find_element_by_* commands are deprecated. Please use find_element() instead\n",
      "  sport_channel = browser.find_element_by_xpath('//*[@id=\"mainContent\"]/ul/li[4]/a')\n",
      "C:\\Users\\CHOEIJH\\AppData\\Local\\Temp\\ipykernel_20296\\3429485407.py:8: DeprecationWarning: find_element_by_* commands are deprecated. Please use find_element() instead\n",
      "  sport_board = browser.find_element_by_class_name(\"link_newboard\")\n",
      "C:\\Users\\CHOEIJH\\AppData\\Local\\Temp\\ipykernel_20296\\3429485407.py:15: DeprecationWarning: find_element_by_* commands are deprecated. Please use find_element() instead\n",
      "  text_area = browser.find_element_by_id('boardTitle')\n",
      "C:\\Users\\CHOEIJH\\AppData\\Local\\Temp\\ipykernel_20296\\3429485407.py:19: DeprecationWarning: find_element_by_* commands are deprecated. Please use find_element() instead\n",
      "  browser.find_element_by_xpath('//*[@id=\"mainContent\"]/div[2]/div/div[2]/div[2]/ul/li[2]/a').click()\n",
      "C:\\Users\\CHOEIJH\\AppData\\Local\\Temp\\ipykernel_20296\\3429485407.py:21: DeprecationWarning: find_element_by_* commands are deprecated. Please use find_element() instead\n",
      "  it_link = browser.find_element_by_xpath('//*[@id=\"mainContent\"]/div[2]/div/div[2]/div[3]/form/div[1]/div/input')\n",
      "C:\\Users\\CHOEIJH\\AppData\\Local\\Temp\\ipykernel_20296\\3429485407.py:29: DeprecationWarning: find_element_by_* commands are deprecated. Please use find_element() instead\n",
      "  browser.find_element_by_xpath('//*[@id=\"mainContent\"]/div[2]/div/div[2]/div[3]/form/div[2]/ul/li[1]/div[3]/button').click()\n",
      "C:\\Users\\CHOEIJH\\AppData\\Local\\Temp\\ipykernel_20296\\3429485407.py:38: DeprecationWarning: find_element_by_* commands are deprecated. Please use find_element() instead\n",
      "  browser.find_element_by_xpath('//*[@id=\"mainContent\"]/div[3]/div[2]/button[2]').click()\n",
      "C:\\Users\\CHOEIJH\\AppData\\Local\\Temp\\ipykernel_20296\\3429485407.py:41: DeprecationWarning: find_element_by_* commands are deprecated. Please use find_element() instead\n",
      "  browser.find_element_by_xpath('//*[@id=\"layer\"]/div/div/div[2]/div/div[3]/dl/dd/div/div[1]/label').click()\n",
      "C:\\Users\\CHOEIJH\\AppData\\Local\\Temp\\ipykernel_20296\\3429485407.py:42: DeprecationWarning: find_element_by_* commands are deprecated. Please use find_element() instead\n",
      "  browser.find_element_by_xpath('//*[@id=\"layer\"]/div/div/div[2]/div/div[3]/dl/dd/div/div[9]/label').click()\n",
      "C:\\Users\\CHOEIJH\\AppData\\Local\\Temp\\ipykernel_20296\\3429485407.py:45: DeprecationWarning: find_element_by_* commands are deprecated. Please use find_element() instead\n",
      "  browser.find_element_by_xpath('//*[@id=\"layer\"]/div/div/div[2]/div/div[5]/button[2]').click()\n",
      "C:\\Users\\CHOEIJH\\AppData\\Local\\Temp\\ipykernel_20296\\3429485407.py:47: DeprecationWarning: find_element_by_* commands are deprecated. Please use find_element() instead\n",
      "  browser.find_element_by_xpath('//*[@id=\"layer\"]/div/div/div[3]/div/button').click()\n"
     ]
    }
   ],
   "source": [
    "# 스포츠 뉴스\n",
    "\n",
    "# 스포츠 채널로 이동\n",
    "sport_channel = browser.find_element_by_xpath('//*[@id=\"mainContent\"]/ul/li[4]/a')\n",
    "sport_channel.click()\n",
    "browser.implicitly_wait(5)\n",
    "# 스포츠 보드 생성\n",
    "sport_board = browser.find_element_by_class_name(\"link_newboard\")\n",
    "sport_board.click()\n",
    "browser.implicitly_wait(5)\n",
    "# 오늘 반환\n",
    "today = datetime.today().strftime(\"%m\") + \"월 \" +datetime.today().strftime(\"%d\")+\"일 오늘의\"\n",
    "today_sport = today + \" 스포츠 뉴스\"\n",
    "# 게시글 작성\n",
    "text_area = browser.find_element_by_id('boardTitle')\n",
    "text_area.send_keys(today_sport)\n",
    "\n",
    "# 링크 탭 이동\n",
    "browser.find_element_by_xpath('//*[@id=\"mainContent\"]/div[2]/div/div[2]/div[2]/ul/li[2]/a').click()\n",
    "browser.implicitly_wait(5)\n",
    "it_link = browser.find_element_by_xpath('//*[@id=\"mainContent\"]/div[2]/div/div[2]/div[3]/form/div[1]/div/input')\n",
    "browser.implicitly_wait(5)\n",
    "\n",
    "for i in sports_news:\n",
    "    it_link.send_keys(i)\n",
    "    browser.implicitly_wait(10)\n",
    "    it_link.send_keys(Keys.ENTER)\n",
    "    browser.implicitly_wait(10)  \n",
    "    browser.find_element_by_xpath('//*[@id=\"mainContent\"]/div[2]/div/div[2]/div[3]/form/div[2]/ul/li[1]/div[3]/button').click()\n",
    "    browser.implicitly_wait(10)\n",
    "    it_link.send_keys(Keys.CONTROL + \"a\");\n",
    "    it_link.send_keys(Keys.DELETE);\n",
    "    browser.implicitly_wait(5)\n",
    "\n",
    "\n",
    "# 발행 하기\n",
    "browser.find_element_by_xpath('//*[@id=\"mainContent\"]/div[3]/div[2]/button[2]').click()\n",
    "browser.implicitly_wait(5)\n",
    "# 태그 선택\n",
    "browser.find_element_by_xpath('//*[@id=\"layer\"]/div/div/div[2]/div/div[3]/dl/dd/div/div[1]/label').click()\n",
    "browser.find_element_by_xpath('//*[@id=\"layer\"]/div/div/div[2]/div/div[3]/dl/dd/div/div[9]/label').click()\n",
    "\n",
    "# 발행 버튼\n",
    "browser.find_element_by_xpath('//*[@id=\"layer\"]/div/div/div[2]/div/div[5]/button[2]').click()\n",
    "browser.implicitly_wait(10)\n",
    "browser.find_element_by_xpath('//*[@id=\"layer\"]/div/div/div[3]/div/button').click()\n",
    "browser.implicitly_wait(10)\n",
    "# 처음 채널 이동\n",
    "browser.get('https://creators.kakao.com/my-channels')\n",
    "browser.implicitly_wait(5)"
   ]
  },
  {
   "cell_type": "code",
   "execution_count": 17,
   "metadata": {},
   "outputs": [
    {
     "name": "stderr",
     "output_type": "stream",
     "text": [
      "C:\\Users\\CHOEIJH\\AppData\\Local\\Temp\\ipykernel_20296\\2569223446.py:4: DeprecationWarning: find_element_by_* commands are deprecated. Please use find_element() instead\n",
      "  issue_channel = browser.find_element_by_xpath('//*[@id=\"mainContent\"]/ul/li[5]/a')\n"
     ]
    },
    {
     "ename": "NoSuchElementException",
     "evalue": "Message: no such element: Unable to locate element: {\"method\":\"xpath\",\"selector\":\"//*[@id=\"mainContent\"]/ul/li[5]/a\"}\n  (Session info: chrome=98.0.4758.82)\nStacktrace:\nBacktrace:\n\tOrdinal0 [0x010069A3+2582947]\n\tOrdinal0 [0x00F9A6D1+2139857]\n\tOrdinal0 [0x00E93A98+1063576]\n\tOrdinal0 [0x00EBFF3E+1244990]\n\tOrdinal0 [0x00EC013B+1245499]\n\tOrdinal0 [0x00EE9F52+1417042]\n\tOrdinal0 [0x00ED8594+1344916]\n\tOrdinal0 [0x00EE834A+1409866]\n\tOrdinal0 [0x00ED8366+1344358]\n\tOrdinal0 [0x00EB5176+1200502]\n\tOrdinal0 [0x00EB6066+1204326]\n\tGetHandleVerifier [0x011ABE02+1675858]\n\tGetHandleVerifier [0x0126036C+2414524]\n\tGetHandleVerifier [0x0109BB01+560977]\n\tGetHandleVerifier [0x0109A8D3+556323]\n\tOrdinal0 [0x00FA020E+2163214]\n\tOrdinal0 [0x00FA5078+2183288]\n\tOrdinal0 [0x00FA51C0+2183616]\n\tOrdinal0 [0x00FAEE1C+2223644]\n\tBaseThreadInitThunk [0x768AFA29+25]\n\tRtlGetAppContainerNamedObjectPath [0x77777A9E+286]\n\tRtlGetAppContainerNamedObjectPath [0x77777A6E+238]\n",
     "output_type": "error",
     "traceback": [
      "\u001b[1;31m---------------------------------------------------------------------------\u001b[0m",
      "\u001b[1;31mNoSuchElementException\u001b[0m                    Traceback (most recent call last)",
      "\u001b[1;32mc:\\Users\\CHOEIJH\\Desktop\\India_crawling\\selenium\\kakaoview\\kakaoview.ipynb Cell 13'\u001b[0m in \u001b[0;36m<module>\u001b[1;34m\u001b[0m\n\u001b[0;32m      <a href='vscode-notebook-cell:/c%3A/Users/CHOEIJH/Desktop/India_crawling/selenium/kakaoview/kakaoview.ipynb#ch0000012?line=0'>1</a>\u001b[0m \u001b[39m# 이슈 뉴스\u001b[39;00m\n\u001b[0;32m      <a href='vscode-notebook-cell:/c%3A/Users/CHOEIJH/Desktop/India_crawling/selenium/kakaoview/kakaoview.ipynb#ch0000012?line=1'>2</a>\u001b[0m \n\u001b[0;32m      <a href='vscode-notebook-cell:/c%3A/Users/CHOEIJH/Desktop/India_crawling/selenium/kakaoview/kakaoview.ipynb#ch0000012?line=2'>3</a>\u001b[0m \u001b[39m# 이슈 채널로 이동\u001b[39;00m\n\u001b[1;32m----> <a href='vscode-notebook-cell:/c%3A/Users/CHOEIJH/Desktop/India_crawling/selenium/kakaoview/kakaoview.ipynb#ch0000012?line=3'>4</a>\u001b[0m issue_channel \u001b[39m=\u001b[39m browser\u001b[39m.\u001b[39;49mfind_element_by_xpath(\u001b[39m'\u001b[39;49m\u001b[39m//*[@id=\u001b[39;49m\u001b[39m\"\u001b[39;49m\u001b[39mmainContent\u001b[39;49m\u001b[39m\"\u001b[39;49m\u001b[39m]/ul/li[5]/a\u001b[39;49m\u001b[39m'\u001b[39;49m)\n\u001b[0;32m      <a href='vscode-notebook-cell:/c%3A/Users/CHOEIJH/Desktop/India_crawling/selenium/kakaoview/kakaoview.ipynb#ch0000012?line=4'>5</a>\u001b[0m issue_channel\u001b[39m.\u001b[39mclick()\n\u001b[0;32m      <a href='vscode-notebook-cell:/c%3A/Users/CHOEIJH/Desktop/India_crawling/selenium/kakaoview/kakaoview.ipynb#ch0000012?line=5'>6</a>\u001b[0m browser\u001b[39m.\u001b[39mimplicitly_wait(\u001b[39m5\u001b[39m)\n",
      "File \u001b[1;32mC:\\Anaconda3\\envs\\kakaoview\\lib\\site-packages\\selenium\\webdriver\\remote\\webdriver.py:520\u001b[0m, in \u001b[0;36mWebDriver.find_element_by_xpath\u001b[1;34m(self, xpath)\u001b[0m\n\u001b[0;32m    <a href='file:///c%3A/Anaconda3/envs/kakaoview/lib/site-packages/selenium/webdriver/remote/webdriver.py?line=497'>498</a>\u001b[0m \u001b[39m\"\"\"\u001b[39;00m\n\u001b[0;32m    <a href='file:///c%3A/Anaconda3/envs/kakaoview/lib/site-packages/selenium/webdriver/remote/webdriver.py?line=498'>499</a>\u001b[0m \u001b[39mFinds an element by xpath.\u001b[39;00m\n\u001b[0;32m    <a href='file:///c%3A/Anaconda3/envs/kakaoview/lib/site-packages/selenium/webdriver/remote/webdriver.py?line=499'>500</a>\u001b[0m \n\u001b[1;32m   (...)\u001b[0m\n\u001b[0;32m    <a href='file:///c%3A/Anaconda3/envs/kakaoview/lib/site-packages/selenium/webdriver/remote/webdriver.py?line=512'>513</a>\u001b[0m \u001b[39m        element = driver.find_element_by_xpath('//div/td[1]')\u001b[39;00m\n\u001b[0;32m    <a href='file:///c%3A/Anaconda3/envs/kakaoview/lib/site-packages/selenium/webdriver/remote/webdriver.py?line=513'>514</a>\u001b[0m \u001b[39m\"\"\"\u001b[39;00m\n\u001b[0;32m    <a href='file:///c%3A/Anaconda3/envs/kakaoview/lib/site-packages/selenium/webdriver/remote/webdriver.py?line=514'>515</a>\u001b[0m warnings\u001b[39m.\u001b[39mwarn(\n\u001b[0;32m    <a href='file:///c%3A/Anaconda3/envs/kakaoview/lib/site-packages/selenium/webdriver/remote/webdriver.py?line=515'>516</a>\u001b[0m     \u001b[39m\"\u001b[39m\u001b[39mfind_element_by_* commands are deprecated. Please use find_element() instead\u001b[39m\u001b[39m\"\u001b[39m,\n\u001b[0;32m    <a href='file:///c%3A/Anaconda3/envs/kakaoview/lib/site-packages/selenium/webdriver/remote/webdriver.py?line=516'>517</a>\u001b[0m     \u001b[39mDeprecationWarning\u001b[39;00m,\n\u001b[0;32m    <a href='file:///c%3A/Anaconda3/envs/kakaoview/lib/site-packages/selenium/webdriver/remote/webdriver.py?line=517'>518</a>\u001b[0m     stacklevel\u001b[39m=\u001b[39m\u001b[39m2\u001b[39m,\n\u001b[0;32m    <a href='file:///c%3A/Anaconda3/envs/kakaoview/lib/site-packages/selenium/webdriver/remote/webdriver.py?line=518'>519</a>\u001b[0m )\n\u001b[1;32m--> <a href='file:///c%3A/Anaconda3/envs/kakaoview/lib/site-packages/selenium/webdriver/remote/webdriver.py?line=519'>520</a>\u001b[0m \u001b[39mreturn\u001b[39;00m \u001b[39mself\u001b[39;49m\u001b[39m.\u001b[39;49mfind_element(by\u001b[39m=\u001b[39;49mBy\u001b[39m.\u001b[39;49mXPATH, value\u001b[39m=\u001b[39;49mxpath)\n",
      "File \u001b[1;32mC:\\Anaconda3\\envs\\kakaoview\\lib\\site-packages\\selenium\\webdriver\\remote\\webdriver.py:1244\u001b[0m, in \u001b[0;36mWebDriver.find_element\u001b[1;34m(self, by, value)\u001b[0m\n\u001b[0;32m   <a href='file:///c%3A/Anaconda3/envs/kakaoview/lib/site-packages/selenium/webdriver/remote/webdriver.py?line=1240'>1241</a>\u001b[0m     by \u001b[39m=\u001b[39m By\u001b[39m.\u001b[39mCSS_SELECTOR\n\u001b[0;32m   <a href='file:///c%3A/Anaconda3/envs/kakaoview/lib/site-packages/selenium/webdriver/remote/webdriver.py?line=1241'>1242</a>\u001b[0m     value \u001b[39m=\u001b[39m \u001b[39m'\u001b[39m\u001b[39m[name=\u001b[39m\u001b[39m\"\u001b[39m\u001b[39m%s\u001b[39;00m\u001b[39m\"\u001b[39m\u001b[39m]\u001b[39m\u001b[39m'\u001b[39m \u001b[39m%\u001b[39m value\n\u001b[1;32m-> <a href='file:///c%3A/Anaconda3/envs/kakaoview/lib/site-packages/selenium/webdriver/remote/webdriver.py?line=1243'>1244</a>\u001b[0m \u001b[39mreturn\u001b[39;00m \u001b[39mself\u001b[39;49m\u001b[39m.\u001b[39;49mexecute(Command\u001b[39m.\u001b[39;49mFIND_ELEMENT, {\n\u001b[0;32m   <a href='file:///c%3A/Anaconda3/envs/kakaoview/lib/site-packages/selenium/webdriver/remote/webdriver.py?line=1244'>1245</a>\u001b[0m     \u001b[39m'\u001b[39;49m\u001b[39musing\u001b[39;49m\u001b[39m'\u001b[39;49m: by,\n\u001b[0;32m   <a href='file:///c%3A/Anaconda3/envs/kakaoview/lib/site-packages/selenium/webdriver/remote/webdriver.py?line=1245'>1246</a>\u001b[0m     \u001b[39m'\u001b[39;49m\u001b[39mvalue\u001b[39;49m\u001b[39m'\u001b[39;49m: value})[\u001b[39m'\u001b[39m\u001b[39mvalue\u001b[39m\u001b[39m'\u001b[39m]\n",
      "File \u001b[1;32mC:\\Anaconda3\\envs\\kakaoview\\lib\\site-packages\\selenium\\webdriver\\remote\\webdriver.py:424\u001b[0m, in \u001b[0;36mWebDriver.execute\u001b[1;34m(self, driver_command, params)\u001b[0m\n\u001b[0;32m    <a href='file:///c%3A/Anaconda3/envs/kakaoview/lib/site-packages/selenium/webdriver/remote/webdriver.py?line=421'>422</a>\u001b[0m response \u001b[39m=\u001b[39m \u001b[39mself\u001b[39m\u001b[39m.\u001b[39mcommand_executor\u001b[39m.\u001b[39mexecute(driver_command, params)\n\u001b[0;32m    <a href='file:///c%3A/Anaconda3/envs/kakaoview/lib/site-packages/selenium/webdriver/remote/webdriver.py?line=422'>423</a>\u001b[0m \u001b[39mif\u001b[39;00m response:\n\u001b[1;32m--> <a href='file:///c%3A/Anaconda3/envs/kakaoview/lib/site-packages/selenium/webdriver/remote/webdriver.py?line=423'>424</a>\u001b[0m     \u001b[39mself\u001b[39;49m\u001b[39m.\u001b[39;49merror_handler\u001b[39m.\u001b[39;49mcheck_response(response)\n\u001b[0;32m    <a href='file:///c%3A/Anaconda3/envs/kakaoview/lib/site-packages/selenium/webdriver/remote/webdriver.py?line=424'>425</a>\u001b[0m     response[\u001b[39m'\u001b[39m\u001b[39mvalue\u001b[39m\u001b[39m'\u001b[39m] \u001b[39m=\u001b[39m \u001b[39mself\u001b[39m\u001b[39m.\u001b[39m_unwrap_value(\n\u001b[0;32m    <a href='file:///c%3A/Anaconda3/envs/kakaoview/lib/site-packages/selenium/webdriver/remote/webdriver.py?line=425'>426</a>\u001b[0m         response\u001b[39m.\u001b[39mget(\u001b[39m'\u001b[39m\u001b[39mvalue\u001b[39m\u001b[39m'\u001b[39m, \u001b[39mNone\u001b[39;00m))\n\u001b[0;32m    <a href='file:///c%3A/Anaconda3/envs/kakaoview/lib/site-packages/selenium/webdriver/remote/webdriver.py?line=426'>427</a>\u001b[0m     \u001b[39mreturn\u001b[39;00m response\n",
      "File \u001b[1;32mC:\\Anaconda3\\envs\\kakaoview\\lib\\site-packages\\selenium\\webdriver\\remote\\errorhandler.py:247\u001b[0m, in \u001b[0;36mErrorHandler.check_response\u001b[1;34m(self, response)\u001b[0m\n\u001b[0;32m    <a href='file:///c%3A/Anaconda3/envs/kakaoview/lib/site-packages/selenium/webdriver/remote/errorhandler.py?line=244'>245</a>\u001b[0m         alert_text \u001b[39m=\u001b[39m value[\u001b[39m'\u001b[39m\u001b[39malert\u001b[39m\u001b[39m'\u001b[39m]\u001b[39m.\u001b[39mget(\u001b[39m'\u001b[39m\u001b[39mtext\u001b[39m\u001b[39m'\u001b[39m)\n\u001b[0;32m    <a href='file:///c%3A/Anaconda3/envs/kakaoview/lib/site-packages/selenium/webdriver/remote/errorhandler.py?line=245'>246</a>\u001b[0m     \u001b[39mraise\u001b[39;00m exception_class(message, screen, stacktrace, alert_text)  \u001b[39m# type: ignore[call-arg]  # mypy is not smart enough here\u001b[39;00m\n\u001b[1;32m--> <a href='file:///c%3A/Anaconda3/envs/kakaoview/lib/site-packages/selenium/webdriver/remote/errorhandler.py?line=246'>247</a>\u001b[0m \u001b[39mraise\u001b[39;00m exception_class(message, screen, stacktrace)\n",
      "\u001b[1;31mNoSuchElementException\u001b[0m: Message: no such element: Unable to locate element: {\"method\":\"xpath\",\"selector\":\"//*[@id=\"mainContent\"]/ul/li[5]/a\"}\n  (Session info: chrome=98.0.4758.82)\nStacktrace:\nBacktrace:\n\tOrdinal0 [0x010069A3+2582947]\n\tOrdinal0 [0x00F9A6D1+2139857]\n\tOrdinal0 [0x00E93A98+1063576]\n\tOrdinal0 [0x00EBFF3E+1244990]\n\tOrdinal0 [0x00EC013B+1245499]\n\tOrdinal0 [0x00EE9F52+1417042]\n\tOrdinal0 [0x00ED8594+1344916]\n\tOrdinal0 [0x00EE834A+1409866]\n\tOrdinal0 [0x00ED8366+1344358]\n\tOrdinal0 [0x00EB5176+1200502]\n\tOrdinal0 [0x00EB6066+1204326]\n\tGetHandleVerifier [0x011ABE02+1675858]\n\tGetHandleVerifier [0x0126036C+2414524]\n\tGetHandleVerifier [0x0109BB01+560977]\n\tGetHandleVerifier [0x0109A8D3+556323]\n\tOrdinal0 [0x00FA020E+2163214]\n\tOrdinal0 [0x00FA5078+2183288]\n\tOrdinal0 [0x00FA51C0+2183616]\n\tOrdinal0 [0x00FAEE1C+2223644]\n\tBaseThreadInitThunk [0x768AFA29+25]\n\tRtlGetAppContainerNamedObjectPath [0x77777A9E+286]\n\tRtlGetAppContainerNamedObjectPath [0x77777A6E+238]\n"
     ]
    }
   ],
   "source": [
    "# 이슈 뉴스\n",
    "\n",
    "# 이슈 채널로 이동\n",
    "issue_channel = browser.find_element_by_xpath('//*[@id=\"mainContent\"]/ul/li[5]/a')\n",
    "issue_channel.click()\n",
    "browser.implicitly_wait(5)\n",
    "# 스포츠 보드 생성\n",
    "issue_board = browser.find_element_by_class_name(\"link_newboard\")\n",
    "issue_board.click()\n",
    "browser.implicitly_wait(5)\n",
    "# 오늘 반환\n",
    "today = datetime.today().strftime(\"%m\") + \"월 \" +datetime.today().strftime(\"%d\")+\"일 오늘의\"\n",
    "today_sport = today + \" 헤드라인 뉴스\"\n",
    "# 게시글 작성\n",
    "text_area = browser.find_element_by_id('boardTitle')\n",
    "text_area.send_keys(today_sport)\n",
    "\n",
    "# 링크 탭 이동\n",
    "browser.find_element_by_xpath('//*[@id=\"mainContent\"]/div[2]/div/div[2]/div[2]/ul/li[2]/a').click()\n",
    "browser.implicitly_wait(5)\n",
    "it_link = browser.find_element_by_xpath('//*[@id=\"mainContent\"]/div[2]/div/div[2]/div[3]/form/div[1]/div/input')\n",
    "browser.implicitly_wait(5)\n",
    "\n",
    "for i in sports_news:\n",
    "    it_link.send_keys(i)\n",
    "    browser.implicitly_wait(10)\n",
    "    it_link.send_keys(Keys.ENTER)\n",
    "    browser.implicitly_wait(10)\n",
    "    browser.find_element_by_xpath('//*[@id=\"mainContent\"]/div[2]/div/div[2]/div[3]/form/div[2]/ul/li[1]/div[3]/button').click()\n",
    "    browser.implicitly_wait(10)\n",
    "    it_link.send_keys(Keys.CONTROL + \"a\");\n",
    "    it_link.send_keys(Keys.DELETE);\n",
    "    browser.implicitly_wait(5)\n",
    "\n",
    "\n",
    "# 발행 하기\n",
    "browser.find_element_by_xpath('//*[@id=\"mainContent\"]/div[3]/div[2]/button[2]').click()\n",
    "browser.implicitly_wait(5)\n",
    "# 태그 선택\n",
    "browser.find_element_by_xpath('//*[@id=\"layer\"]/div/div/div[2]/div/div[3]/dl/dd/div/div[1]/label').click()\n",
    "browser.find_element_by_xpath('//*[@id=\"layer\"]/div/div/div[2]/div/div[3]/dl/dd/div/div[9]/label').click()\n",
    "\n",
    "# 발행 버튼\n",
    "browser.find_element_by_xpath('//*[@id=\"layer\"]/div/div/div[2]/div/div[5]/button[2]').click()\n",
    "browser.implicitly_wait(10)\n",
    "browser.find_element_by_xpath('//*[@id=\"layer\"]/div/div/div[3]/div/button').click()\n",
    "browser.implicitly_wait(10)\n",
    "# 처음 채널 이동\n",
    "browser.get('https://creators.kakao.com/my-channels')\n",
    "browser.implicitly_wait(5)"
   ]
  },
  {
   "cell_type": "code",
   "execution_count": null,
   "metadata": {},
   "outputs": [],
   "source": []
  }
 ],
 "metadata": {
  "interpreter": {
   "hash": "af0f3e56fb43fdd582f11c7cd9c57346b742454a02a4574a09fb6e56f9cf3083"
  },
  "kernelspec": {
   "display_name": "Python 3.10.2 ('kakaoview')",
   "language": "python",
   "name": "python3"
  },
  "language_info": {
   "codemirror_mode": {
    "name": "ipython",
    "version": 3
   },
   "file_extension": ".py",
   "mimetype": "text/x-python",
   "name": "python",
   "nbconvert_exporter": "python",
   "pygments_lexer": "ipython3",
   "version": "3.10.2"
  },
  "orig_nbformat": 4
 },
 "nbformat": 4,
 "nbformat_minor": 2
}
