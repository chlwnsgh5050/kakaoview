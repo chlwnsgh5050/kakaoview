{
 "cells": [
  {
   "cell_type": "code",
   "execution_count": null,
   "metadata": {},
   "outputs": [],
   "source": []
  }
 ],
 "metadata": {
  "interpreter": {
   "hash": "7bc472a6a177d8cf3f52ddde70679a4e6b9e46a9ad3fcdddea862b70cd771097"
  },
  "kernelspec": {
   "display_name": "Python 3.10.0 ('kakaoview')",
   "language": "python",
   "name": "python3"
  },
  "language_info": {
   "name": "python",
   "version": "3.10.0"
  },
  "orig_nbformat": 4
 },
 "nbformat": 4,
 "nbformat_minor": 2
}
