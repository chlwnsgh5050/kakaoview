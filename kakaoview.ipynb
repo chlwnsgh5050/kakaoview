{
 "cells": [
  {
   "cell_type": "code",
   "execution_count": 1,
   "metadata": {},
   "outputs": [],
   "source": [
    "import tkinter.ttk as ttk\n",
    "import tkinter.messagebox as msgbox\n",
    "from tkinter import *  # __all__\n",
    "from tkinter import filedialog\n",
    "import threading\n",
    "import time\n",
    "from selenium import webdriver\n",
    "from selenium.webdriver.common.keys import Keys\n",
    "from selenium.webdriver.support.ui import Select\n",
    "from selenium.webdriver.common.alert import Alert\n",
    "from selenium.webdriver.common.action_chains import ActionChains\n",
    "from webdriver_manager.chrome import ChromeDriverManager\n",
    "from time import sleep\n",
    "import pandas as pd\n",
    "import sys\n",
    "import os\n",
    "from datetime import datetime"
   ]
  },
  {
   "cell_type": "code",
   "execution_count": 2,
   "metadata": {},
   "outputs": [
    {
     "name": "stderr",
     "output_type": "stream",
     "text": [
      "\n",
      "\n",
      "====== WebDriver manager ======\n",
      "Current google-chrome version is 98.0.4758\n",
      "Get LATEST chromedriver version for 98.0.4758 google-chrome\n",
      "Trying to download new driver from https://chromedriver.storage.googleapis.com/98.0.4758.102/chromedriver_win32.zip\n",
      "Driver has been saved in cache [C:\\Users\\chlwn\\.wdm\\drivers\\chromedriver\\win32\\98.0.4758.102]\n"
     ]
    }
   ],
   "source": [
    "options = webdriver.ChromeOptions()\n",
    "# options.add_argument(\"headless\")\n",
    "options.add_experimental_option(\"excludeSwitches\", [\"enable-logging\"])\n",
    "options.add_argument(\n",
    "\"user-agent=Mozilla/5.0 (Macintosh; Intel Mac OS X 10_12_6) AppleWebKit/537.36 (KHTML, like Gecko) Chrome/61.0.3163.100 Safari/537.36\")\n",
    "# 사이트 켜기\n",
    "browser = webdriver.Chrome(\n",
    "ChromeDriverManager().install(), options=options)\n",
    "##"
   ]
  },
  {
   "cell_type": "code",
   "execution_count": 3,
   "metadata": {},
   "outputs": [
    {
     "data": {
      "text/plain": [
       "['https://news.naver.com/main/read.naver?mode=LSD&mid=shm&sid1=105&oid=003&aid=0011014990',\n",
       " 'https://news.naver.com/main/read.naver?mode=LSD&mid=shm&sid1=105&oid=032&aid=0003129463',\n",
       " 'https://news.naver.com/main/read.naver?mode=LSD&mid=shm&sid1=105&oid=421&aid=0005918822',\n",
       " 'https://news.naver.com/main/read.naver?mode=LSD&mid=shm&sid1=105&oid=277&aid=0005047048',\n",
       " 'https://news.naver.com/main/read.naver?mode=LSD&mid=shm&sid1=105&oid=001&aid=0013000471',\n",
       " 'https://news.naver.com/main/read.naver?mode=LSD&mid=shm&sid1=105&oid=001&aid=0012998708',\n",
       " 'https://news.naver.com/main/read.naver?mode=LSD&mid=shm&sid1=105&oid=016&aid=0001953272',\n",
       " 'https://news.naver.com/main/read.naver?mode=LSD&mid=shm&sid1=105&oid=081&aid=0003252819',\n",
       " 'https://news.naver.com/main/read.naver?mode=LSD&mid=shm&sid1=105&oid=584&aid=0000017892',\n",
       " 'https://news.naver.com/main/read.naver?mode=LSD&mid=shm&sid1=105&oid=031&aid=0000654926']"
      ]
     },
     "execution_count": 3,
     "metadata": {},
     "output_type": "execute_result"
    }
   ],
   "source": [
    "#IT NEWS Gathering\n",
    "browser.get(\n",
    "\"https://news.naver.com/main/main.naver?mode=LSD&mid=shm&sid1=105\")\n",
    "it_news = []\n",
    "for i in range(1,6):\n",
    "    it_article = browser.find_element_by_css_selector(\"#main_content > div > div._persist > div:nth-child(1) > div:nth-child({}) > div.cluster_body > ul > li:nth-child(1) > div.cluster_text > a\".format(i))\n",
    "    it_article = it_article.get_attribute(\"href\")\n",
    "    it_news.append(it_article)\n",
    "try:\n",
    "    browser.find_element_by_xpath('//*[@id=\"main_content\"]/div/div[2]/div[2]/div/a').click()\n",
    "except:\n",
    "    pass\n",
    "try:\n",
    "    for i in range(6,9):\n",
    "        it_article = browser.find_element_by_css_selector(\"#main_content > div > div._persist > div:nth-child(1) > div:nth-child({}) > div.cluster_body > ul > li:nth-child(1) > div.cluster_text > a\".format(i))\n",
    "        it_article = it_article.get_attribute(\"href\")\n",
    "        it_news.append(it_article)\n",
    "except:\n",
    "    pass\n",
    "try:\n",
    "    for i in range(3,5):\n",
    "        it_article = browser.find_element_by_css_selector(\"#main_content > div > div:nth-child({}) > div > div.cluster_body > ul > li:nth-child(1) > div > a\".format(i))\n",
    "        it_article = it_article.get_attribute(\"href\")\n",
    "        it_news.append(it_article)\n",
    "except:\n",
    "    pass\n",
    "it_news"
   ]
  },
  {
   "cell_type": "code",
   "execution_count": 4,
   "metadata": {},
   "outputs": [
    {
     "data": {
      "text/plain": [
       "['https://news.naver.com/main/read.naver?mode=LSD&mid=shm&sid1=101&oid=055&aid=0000955043',\n",
       " 'https://news.naver.com/main/read.naver?mode=LSD&mid=shm&sid1=101&oid=014&aid=0004790721',\n",
       " 'https://news.naver.com/main/read.naver?mode=LSD&mid=shm&sid1=101&oid=081&aid=0003252812',\n",
       " 'https://news.naver.com/main/read.naver?mode=LSD&mid=shm&sid1=101&oid=008&aid=0004710345',\n",
       " 'https://news.naver.com/main/read.naver?mode=LSD&mid=shm&sid1=101&oid=421&aid=0005918498',\n",
       " 'https://news.naver.com/main/read.naver?mode=LSD&mid=shm&sid1=101&oid=028&aid=0002579861',\n",
       " 'https://news.naver.com/main/read.naver?mode=LSD&mid=shm&sid1=101&oid=003&aid=0011014915',\n",
       " 'https://news.naver.com/main/read.naver?mode=LSD&mid=shm&sid1=101&oid=016&aid=0001953327',\n",
       " 'https://news.naver.com/main/read.naver?mode=LSD&mid=shm&sid1=101&oid=092&aid=0002248117',\n",
       " 'https://news.naver.com/main/read.naver?mode=LSD&mid=shm&sid1=101&oid=421&aid=0005918331']"
      ]
     },
     "execution_count": 4,
     "metadata": {},
     "output_type": "execute_result"
    }
   ],
   "source": [
    "#ECONOMIC NEWS Gathering\n",
    "browser.get(\n",
    "\"https://news.naver.com/main/main.naver?mode=LSD&mid=shm&sid1=101\")\n",
    "eco_news = []\n",
    "for i in range(1,7):\n",
    "    eco_article = browser.find_element_by_css_selector(\"#main_content > div > div._persist > div:nth-child(1) > div:nth-child({}) > div.cluster_body > ul > li:nth-child(1) > div.cluster_text > a\".format(i))\n",
    "    eco_article = eco_article.get_attribute(\"href\")\n",
    "    eco_news.append(eco_article)\n",
    "browser.find_element_by_xpath('//*[@id=\"main_content\"]/div/div[2]/div[2]/div/a').click()\n",
    "for i in range(7,11):\n",
    "    eco_article = browser.find_element_by_css_selector(\"#main_content > div > div._persist > div:nth-child(1) > div:nth-child({}) > div.cluster_body > ul > li:nth-child(1) > div.cluster_text > a\".format(i))\n",
    "    eco_article = eco_article.get_attribute(\"href\")\n",
    "    eco_news.append(eco_article)\n",
    "eco_news\n"
   ]
  },
  {
   "cell_type": "code",
   "execution_count": 5,
   "metadata": {},
   "outputs": [
    {
     "name": "stdout",
     "output_type": "stream",
     "text": [
      "['http://starin.edaily.co.kr/news/newspath.asp?newsid=01144726632232488', 'https://www.nocutnews.co.kr/news/5710393', 'http://www.newsis.com/view/?id=NISI20220220_0018510324', 'http://yna.kr/AKR20220219058700007?did=1195m', 'https://news.kbs.co.kr/news/view.do?ncd=5399295&ref=A', 'http://www.edaily.co.kr/news/newspath.asp?newsid=01610486632232488', 'https://news.sbs.co.kr/news/endPage.do?news_id=N1006647382&plink=ORI&cooper=NAVER', 'https://www.nocutnews.co.kr/news/5710383', 'https://www.ajunews.com/view/20220219145748050', 'https://www.news1.kr/photos/view/?5229300']\n",
      "['http://starin.edaily.co.kr/news/newspath.asp?newsid=01144726632232488', 'https://www.nocutnews.co.kr/news/5710393', 'http://www.newsis.com/view/?id=NISI20220220_0018510324', 'http://yna.kr/AKR20220219058700007?did=1195m', 'https://news.kbs.co.kr/news/view.do?ncd=5399295&ref=A', 'http://www.edaily.co.kr/news/newspath.asp?newsid=01610486632232488', 'https://news.sbs.co.kr/news/endPage.do?news_id=N1006647382&plink=ORI&cooper=NAVER', 'https://www.nocutnews.co.kr/news/5710383', 'https://www.ajunews.com/view/20220219145748050', 'https://www.news1.kr/photos/view/?5229300']\n"
     ]
    }
   ],
   "source": [
    "if datetime.today().strftime(\"%Y%m%d\") <= '20220221':\n",
    "    browser.get(\n",
    "    \"https://search.naver.com/search.naver?where=news&query=%EB%B2%A0%EC%9D%B4%EC%A7%95%EC%98%AC%EB%A6%BC%ED%94%BD%EB%89%B4%EC%8A%A4&sm=tab_tmr&nso=so:r,p:all,a:all&sort=0\")\n",
    "    sports_news = []\n",
    "    olymphic_article = browser.find_elements_by_css_selector('a.news_tit')\n",
    "    for e in olymphic_article:\n",
    "        olymphic_article = e.get_attribute('href')\n",
    "        sports_news.append(olymphic_article)\n",
    "    print(sports_news)\n",
    "else:\n",
    "    browser.get(\n",
    "    \"https://sports.news.naver.com/ranking/index\")\n",
    "    sports_news = []\n",
    "    sports_article = browser.find_elements_by_css_selector('a.title')\n",
    "    for e in sports_article[0:10]:\n",
    "        sports_article = e.get_attribute('href')\n",
    "        sports_news.append(sports_article)\n",
    "print(sports_news)\n",
    " \n",
    "\n",
    "\n",
    "\n",
    "\n"
   ]
  },
  {
   "cell_type": "code",
   "execution_count": 6,
   "metadata": {},
   "outputs": [
    {
     "name": "stdout",
     "output_type": "stream",
     "text": [
      "['https://entertain.naver.com/ranking/read?oid=109&aid=0004560955', 'https://entertain.naver.com/ranking/read?oid=109&aid=0004560873', 'https://entertain.naver.com/ranking/read?oid=609&aid=0000544079', 'https://entertain.naver.com/ranking/read?oid=396&aid=0000605226', 'https://entertain.naver.com/ranking/read?oid=109&aid=0004561020', 'https://entertain.naver.com/ranking/read?oid=076&aid=0003834089', 'https://entertain.naver.com/ranking/read?oid=408&aid=0000146549', 'https://entertain.naver.com/ranking/read?oid=112&aid=0003533016', 'https://entertain.naver.com/ranking/read?oid=477&aid=0000343678', 'https://entertain.naver.com/ranking/read?oid=144&aid=0000794338']\n"
     ]
    }
   ],
   "source": [
    "#Entertain NEWS Gathering\n",
    "browser.get(\n",
    "\"https://entertain.naver.com/home\")\n",
    "entertain_news = []\n",
    "for i in range(1,11):\n",
    "    entertain_article = browser.find_element_by_xpath('//*[@id=\"ranking_news\"]/div/div[2]/ul/li[{}]/a'.format(i))\n",
    "    entertain_article = entertain_article.get_attribute(\"href\")\n",
    "    entertain_news.append(entertain_article)\n",
    "print(entertain_news)\n",
    "\n"
   ]
  },
  {
   "cell_type": "code",
   "execution_count": 7,
   "metadata": {},
   "outputs": [],
   "source": [
    "#KAKAOVIEW 로그인\n",
    "id = \"chlwnsgh5050@naver.com\"\n",
    "pw = \"jeff1709!\"\n",
    "# 카카오창작센터 이동\n",
    "browser.get(\n",
    "\"https://accounts.kakao.com/login/creators?continue=https%3A%2F%2Fcreators.kakao.com%3A443%2Fkakao%2Fauth\")\n",
    "\n",
    "USER = browser.find_element_by_xpath('//*[@id=\"id_email_2\"]')\n",
    "USER.send_keys(id)\n",
    "PW = browser.find_element_by_xpath('//*[@id=\"id_password_3\"]')\n",
    "PW.send_keys(pw)\n",
    "PW.send_keys(Keys.ENTER)\n",
    "browser.implicitly_wait(5)"
   ]
  },
  {
   "cell_type": "code",
   "execution_count": 8,
   "metadata": {},
   "outputs": [],
   "source": [
    "\n",
    "\n",
    "# IT 채널로 이동\n",
    "it_channel = browser.find_element_by_class_name(\"link_channel\")\n",
    "it_channel.click()\n",
    "browser.implicitly_wait(5)\n",
    "# it 보드 생성\n",
    "it_board = browser.find_element_by_class_name(\"link_newboard\")\n",
    "it_board.click()\n",
    "browser.implicitly_wait(5)\n",
    "# 오늘 반환\n",
    "today = datetime.today().strftime(\"%m\") + \"월 \" +datetime.today().strftime(\"%d\")+\"일 오늘의\"\n",
    "today_it = today + \" IT 뉴스\"\n",
    "# 게시글 작성\n",
    "text_area = browser.find_element_by_id('boardTitle')\n",
    "text_area.send_keys(today_it)\n",
    "\n",
    "# 링크 탭 이동\n",
    "browser.find_element_by_xpath('//*[@id=\"mainContent\"]/div[2]/div/div[2]/div[2]/ul/li[2]/a').click()\n",
    "browser.implicitly_wait(5)\n",
    "it_link = browser.find_element_by_xpath('//*[@id=\"mainContent\"]/div[2]/div/div[2]/div[3]/form/div[1]/div/input')\n",
    "# it_link.send_keys(Keys.ENTER)\n",
    "for i in it_news:\n",
    "    it_link.send_keys(i)\n",
    "    browser.implicitly_wait(10)\n",
    "    it_link.send_keys(Keys.ENTER)\n",
    "    browser.implicitly_wait(10)  \n",
    "    browser.find_element_by_xpath('//*[@id=\"mainContent\"]/div[2]/div/div[2]/div[3]/form/div[2]/ul/li[1]/div[3]/button').click()\n",
    "    browser.implicitly_wait(10)\n",
    "    it_link.send_keys(Keys.CONTROL + \"a\");\n",
    "    it_link.send_keys(Keys.DELETE);\n",
    "    browser.implicitly_wait(5)\n",
    "# 발행 하기\n",
    "browser.find_element_by_xpath('//*[@id=\"mainContent\"]/div[3]/div[2]/button[2]').click()\n",
    "browser.implicitly_wait(5)\n",
    "# 태그 선택\n",
    "browser.find_element_by_xpath('//*[@id=\"layer\"]/div/div/div[2]/div/div[3]/dl/dd/div/div[1]/label').click()\n",
    "browser.find_element_by_xpath('//*[@id=\"layer\"]/div/div/div[2]/div/div[3]/dl/dd/div/div[16]/label').click()\n",
    "# 발행 버튼\n",
    "browser.find_element_by_xpath('//*[@id=\"layer\"]/div/div/div[2]/div/div[5]/button[2]').click()\n",
    "browser.implicitly_wait(10)\n",
    "browser.find_element_by_xpath('//*[@id=\"layer\"]/div/div/div[3]/div/button').click()\n",
    "# 처음 채널 이동\n",
    "browser.get('https://creators.kakao.com/my-channels')\n",
    "browser.implicitly_wait(5)"
   ]
  },
  {
   "cell_type": "code",
   "execution_count": 9,
   "metadata": {},
   "outputs": [],
   "source": [
    "# 경제 뉴스\n",
    "\n",
    "# 경제 채널로 이동\n",
    "it_channel = browser.find_element_by_xpath('//*[@id=\"mainContent\"]/ul/li[2]/a')\n",
    "it_channel.click()\n",
    "browser.implicitly_wait(5)\n",
    "# 경제 보드 생성\n",
    "it_board = browser.find_element_by_class_name(\"link_newboard\")\n",
    "it_board.click()\n",
    "browser.implicitly_wait(5)\n",
    "# 오늘 반환\n",
    "today = datetime.today().strftime(\"%m\") + \"월 \" +datetime.today().strftime(\"%d\")+\"일 오늘의\"\n",
    "today_eco = today + \" 경제 뉴스\"\n",
    "# 게시글 작성\n",
    "text_area = browser.find_element_by_id('boardTitle')\n",
    "text_area.send_keys(today_eco)\n",
    "\n",
    "# 링크 탭 이동\n",
    "browser.find_element_by_xpath('//*[@id=\"mainContent\"]/div[2]/div/div[2]/div[2]/ul/li[2]/a').click()\n",
    "browser.implicitly_wait(5)\n",
    "it_link = browser.find_element_by_xpath('//*[@id=\"mainContent\"]/div[2]/div/div[2]/div[3]/form/div[1]/div/input')\n",
    "# it_link.send_keys(Keys.ENTER)\n",
    "for i in eco_news:\n",
    "    it_link.send_keys(i)\n",
    "    browser.implicitly_wait(10)\n",
    "    it_link.send_keys(Keys.ENTER)\n",
    "    browser.implicitly_wait(10)  \n",
    "    browser.find_element_by_xpath('//*[@id=\"mainContent\"]/div[2]/div/div[2]/div[3]/form/div[2]/ul/li[1]/div[3]/button').click()\n",
    "    browser.implicitly_wait(10)\n",
    "    it_link.send_keys(Keys.CONTROL + \"a\");\n",
    "    it_link.send_keys(Keys.DELETE);\n",
    "    browser.implicitly_wait(5)\n",
    "# 발행 하기\n",
    "browser.find_element_by_xpath('//*[@id=\"mainContent\"]/div[3]/div[2]/button[2]').click()\n",
    "browser.implicitly_wait(5)\n",
    "# 태그 선택\n",
    "browser.find_element_by_xpath('//*[@id=\"layer\"]/div/div/div[2]/div/div[3]/dl/dd/div/div[1]/label').click()\n",
    "browser.find_element_by_xpath('//*[@id=\"layer\"]/div/div/div[2]/div/div[3]/dl/dd/div/div[2]/label').click()\n",
    "\n",
    "# 발행 버튼\n",
    "browser.find_element_by_xpath('//*[@id=\"layer\"]/div/div/div[2]/div/div[5]/button[2]').click()\n",
    "browser.implicitly_wait(10)\n",
    "browser.find_element_by_xpath('//*[@id=\"layer\"]/div/div/div[3]/div/button').click()\n",
    "browser.implicitly_wait(10)\n",
    "# 처음 채널 이동\n",
    "browser.get('https://creators.kakao.com/my-channels')\n",
    "browser.implicitly_wait(5)"
   ]
  },
  {
   "cell_type": "code",
   "execution_count": 10,
   "metadata": {},
   "outputs": [],
   "source": [
    "# 연예 뉴스\n",
    "\n",
    "# 연예 채널로 이동\n",
    "it_channel = browser.find_element_by_xpath('//*[@id=\"mainContent\"]/ul/li[3]/a')\n",
    "it_channel.click()\n",
    "browser.implicitly_wait(5)\n",
    "# 경제 보드 생성\n",
    "it_board = browser.find_element_by_class_name(\"link_newboard\")\n",
    "it_board.click()\n",
    "browser.implicitly_wait(5)\n",
    "# 오늘 반환\n",
    "today = datetime.today().strftime(\"%m\") + \"월 \" +datetime.today().strftime(\"%d\")+\"일 오늘의\"\n",
    "today_eco = today + \" 연예 뉴스\"\n",
    "# 게시글 작성\n",
    "text_area = browser.find_element_by_id('boardTitle')\n",
    "text_area.send_keys(today_eco)\n",
    "\n",
    "# 링크 탭 이동\n",
    "browser.find_element_by_xpath('//*[@id=\"mainContent\"]/div[2]/div/div[2]/div[2]/ul/li[2]/a').click()\n",
    "browser.implicitly_wait(5)\n",
    "it_link = browser.find_element_by_xpath('//*[@id=\"mainContent\"]/div[2]/div/div[2]/div[3]/form/div[1]/div/input')\n",
    "# it_link.send_keys(Keys.ENTER)\n",
    "for i in entertain_news:\n",
    "    it_link.send_keys(i)\n",
    "    browser.implicitly_wait(10)\n",
    "    it_link.send_keys(Keys.ENTER)\n",
    "    browser.implicitly_wait(10)  \n",
    "    browser.find_element_by_xpath('//*[@id=\"mainContent\"]/div[2]/div/div[2]/div[3]/form/div[2]/ul/li[1]/div[3]/button').click()\n",
    "    browser.implicitly_wait(10)\n",
    "    it_link.send_keys(Keys.CONTROL + \"a\");\n",
    "    it_link.send_keys(Keys.DELETE);\n",
    "    browser.implicitly_wait(5)\n",
    "# 발행 하기\n",
    "browser.find_element_by_xpath('//*[@id=\"mainContent\"]/div[3]/div[2]/button[2]').click()\n",
    "browser.implicitly_wait(5)\n",
    "# 태그 선택\n",
    "browser.find_element_by_xpath('//*[@id=\"layer\"]/div/div/div[2]/div/div[3]/dl/dd/div/div[1]/label').click()\n",
    "browser.find_element_by_xpath('//*[@id=\"layer\"]/div/div/div[2]/div/div[3]/dl/dd/div/div[11]/label').click()\n",
    "\n",
    "# 발행 버튼\n",
    "browser.find_element_by_xpath('//*[@id=\"layer\"]/div/div/div[2]/div/div[5]/button[2]').click()\n",
    "browser.implicitly_wait(10)\n",
    "browser.find_element_by_xpath('//*[@id=\"layer\"]/div/div/div[3]/div/button').click()\n",
    "browser.implicitly_wait(10)\n",
    "# 처음 채널 이동\n",
    "browser.get('https://creators.kakao.com/my-channels')\n",
    "browser.implicitly_wait(5)"
   ]
  },
  {
   "cell_type": "code",
   "execution_count": 18,
   "metadata": {},
   "outputs": [
    {
     "data": {
      "text/plain": [
       "'https://www.news1.kr/photos/view/?5229300'"
      ]
     },
     "execution_count": 18,
     "metadata": {},
     "output_type": "execute_result"
    }
   ],
   "source": [
    "sports_news[9]"
   ]
  },
  {
   "cell_type": "code",
   "execution_count": 20,
   "metadata": {},
   "outputs": [],
   "source": [
    "# 스포츠 뉴스\n",
    "\n",
    "# 스포츠 채널로 이동\n",
    "sport_channel = browser.find_element_by_xpath('//*[@id=\"mainContent\"]/ul/li[4]/a')\n",
    "sport_channel.click()\n",
    "browser.implicitly_wait(5)\n",
    "# 스포츠 보드 생성\n",
    "sport_board = browser.find_element_by_class_name(\"link_newboard\")\n",
    "sport_board.click()\n",
    "browser.implicitly_wait(5)\n",
    "# 오늘 반환\n",
    "today = datetime.today().strftime(\"%m\") + \"월 \" +datetime.today().strftime(\"%d\")+\"일 오늘의\"\n",
    "today_sport = today + \" 스포츠 뉴스\"\n",
    "# 게시글 작성\n",
    "text_area = browser.find_element_by_id('boardTitle')\n",
    "text_area.send_keys(today_sport)\n",
    "\n",
    "# 링크 탭 이동\n",
    "browser.find_element_by_xpath('//*[@id=\"mainContent\"]/div[2]/div/div[2]/div[2]/ul/li[2]/a').click()\n",
    "browser.implicitly_wait(5)\n",
    "it_link = browser.find_element_by_xpath('//*[@id=\"mainContent\"]/div[2]/div/div[2]/div[3]/form/div[1]/div/input')\n",
    "browser.implicitly_wait(5)\n",
    "\n",
    "for i in sports_news:\n",
    "    it_link.send_keys(i)\n",
    "    browser.implicitly_wait(10)\n",
    "    it_link.send_keys(Keys.ENTER)\n",
    "    browser.implicitly_wait(10)  \n",
    "    browser.find_element_by_xpath('//*[@id=\"mainContent\"]/div[2]/div/div[2]/div[3]/form/div[2]/ul/li[1]/div[3]/button').click()\n",
    "    browser.implicitly_wait(10)\n",
    "    it_link.send_keys(Keys.CONTROL + \"a\");\n",
    "    it_link.send_keys(Keys.DELETE);\n",
    "    browser.implicitly_wait(5)\n",
    "\n",
    "\n",
    "    \n",
    "# 발행 하기\n",
    "browser.find_element_by_xpath('//*[@id=\"mainContent\"]/div[3]/div[2]/button[2]').click()\n",
    "browser.implicitly_wait(5)\n",
    "# 태그 선택\n",
    "browser.find_element_by_xpath('//*[@id=\"layer\"]/div/div/div[2]/div/div[3]/dl/dd/div/div[1]/label').click()\n",
    "browser.find_element_by_xpath('//*[@id=\"layer\"]/div/div/div[2]/div/div[3]/dl/dd/div/div[9]/label').click()\n",
    "\n",
    "# 발행 버튼\n",
    "browser.find_element_by_xpath('//*[@id=\"layer\"]/div/div/div[2]/div/div[5]/button[2]').click()\n",
    "browser.implicitly_wait(10)\n",
    "browser.find_element_by_xpath('//*[@id=\"layer\"]/div/div/div[3]/div/button').click()\n",
    "browser.implicitly_wait(10)\n",
    "# 처음 채널 이동\n",
    "browser.get('https://creators.kakao.com/my-channels')\n",
    "browser.implicitly_wait(5)"
   ]
  },
  {
   "cell_type": "code",
   "execution_count": null,
   "metadata": {},
   "outputs": [],
   "source": []
  }
 ],
 "metadata": {
  "interpreter": {
   "hash": "af0f3e56fb43fdd582f11c7cd9c57346b742454a02a4574a09fb6e56f9cf3083"
  },
  "kernelspec": {
   "display_name": "Python 3.10.2 ('kakaoview')",
   "language": "python",
   "name": "python3"
  },
  "language_info": {
   "codemirror_mode": {
    "name": "ipython",
    "version": 3
   },
   "file_extension": ".py",
   "mimetype": "text/x-python",
   "name": "python",
   "nbconvert_exporter": "python",
   "pygments_lexer": "ipython3",
   "version": "3.10.0"
  },
  "orig_nbformat": 4
 },
 "nbformat": 4,
 "nbformat_minor": 2
}
